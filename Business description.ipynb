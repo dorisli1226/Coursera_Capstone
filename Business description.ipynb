{
 "cells": [
  {
   "cell_type": "markdown",
   "metadata": {},
   "source": [
    "### 1. A description of the problem and a discussion of the background."
   ]
  },
  {
   "cell_type": "markdown",
   "metadata": {},
   "source": [
    "**Background**"
   ]
  },
  {
   "cell_type": "markdown",
   "metadata": {},
   "source": [
    "As a graduate student from the University of Melbourne, Dorothy, one of my besties frineds, wants to open up a coffee shop around melbourn uni or near the Melborne City Centre. \n",
    "\n",
    "\n",
    "*As Melbourn uni locates closely near the city centre, so the business planning sounds plausible* "
   ]
  },
  {
   "cell_type": "markdown",
   "metadata": {},
   "source": [
    "Dorothy is a heavy coffee person, and Melbourne is a well-known city for its famous coffee beens and special coffee taste. There are so many coffee shops around Melbourn city, and each of them has special taste and attracts many customer. And for many tourists and even local people, they tend to seach from Foursquare websites for high-rated coffee shops."
   ]
  },
  {
   "cell_type": "markdown",
   "metadata": {},
   "source": [
    "As it is her first business start-ups, Dorothy want to make as through analysis as possible before she started to open the coffee shop. Now the question she want to solve are listed below:"
   ]
  },
  {
   "cell_type": "markdown",
   "metadata": {},
   "source": [
    "**questions**"
   ]
  },
  {
   "cell_type": "markdown",
   "metadata": {},
   "source": [
    "- Know more about Foursquare by search coffee shops around melbourne uni for Dorotjy knows thoses shops well. The search results will let Dorothy know data well and build a basic understanding on how data can help her make business decisions.\n",
    "\n",
    "- Know whether coffee shop is a good choice for her by checking the venue trends around Melbourne Uni and Melbourne City."
   ]
  },
  {
   "cell_type": "markdown",
   "metadata": {},
   "source": [
    "### 2.A description of the data and how it will be used to solve the problem"
   ]
  },
  {
   "cell_type": "markdown",
   "metadata": {},
   "source": [
    "For it's a start-up business,Dorothy can gain basic understanding from website like Foursquare, where numerous people rates on shops, leave tips and even upload photos. Thansks to the big data analysis given by Foursquares, not only can people like Dorothy can obtain specific venue information efficiently, but also the venue trends can be gained, which is very important for entrepreneurs like Dorothy."
   ]
  },
  {
   "cell_type": "markdown",
   "metadata": {},
   "source": [
    "So, basically, we first set Foursquare information as the only data source. More practically, Dorothy should search for more industry information, financially or non-financially, once she decided which industry to go into. "
   ]
  },
  {
   "cell_type": "code",
   "execution_count": null,
   "metadata": {},
   "outputs": [],
   "source": []
  }
 ],
 "metadata": {
  "kernelspec": {
   "display_name": "Python 3",
   "language": "python",
   "name": "python3"
  },
  "language_info": {
   "codemirror_mode": {
    "name": "ipython",
    "version": 3
   },
   "file_extension": ".py",
   "mimetype": "text/x-python",
   "name": "python",
   "nbconvert_exporter": "python",
   "pygments_lexer": "ipython3",
   "version": "3.7.3"
  }
 },
 "nbformat": 4,
 "nbformat_minor": 2
}
