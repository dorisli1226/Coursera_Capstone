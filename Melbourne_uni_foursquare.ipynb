{
 "cells": [
  {
   "cell_type": "markdown",
   "metadata": {
    "button": false,
    "new_sheet": false,
    "run_control": {
     "read_only": false
    }
   },
   "source": [
    "   "
   ]
  },
  {
   "cell_type": "markdown",
   "metadata": {
    "button": false,
    "new_sheet": false,
    "run_control": {
     "read_only": false
    }
   },
   "source": [
    "## Introduction\n",
    "\n"
   ]
  },
  {
   "cell_type": "markdown",
   "metadata": {},
   "source": [
    "----"
   ]
  },
  {
   "cell_type": "markdown",
   "metadata": {
    "button": false,
    "new_sheet": false,
    "run_control": {
     "read_only": false
    }
   },
   "source": [
    "### 1. Import necessary Libraries"
   ]
  },
  {
   "cell_type": "code",
   "execution_count": 1,
   "metadata": {
    "button": false,
    "jupyter": {
     "outputs_hidden": false
    },
    "new_sheet": false,
    "run_control": {
     "read_only": false
    }
   },
   "outputs": [
    {
     "name": "stdout",
     "output_type": "stream",
     "text": [
      "Collecting package metadata (repodata.json): ...working... done\n",
      "Solving environment: ...working... done\n",
      "\n",
      "# All requested packages already installed.\n",
      "\n",
      "Collecting package metadata (repodata.json): ...working... done\n",
      "Solving environment: ...working... done\n",
      "\n",
      "# All requested packages already installed.\n",
      "\n",
      "Folium installed\n",
      "Libraries imported.\n"
     ]
    }
   ],
   "source": [
    "import requests # library to handle requests\n",
    "import pandas as pd # library for data analsysis\n",
    "import numpy as np # library to handle data in a vectorized manner\n",
    "import random # library for random number generation\n",
    "\n",
    "!conda install -c conda-forge geopy --yes \n",
    "from geopy.geocoders import Nominatim # module to convert an address into latitude and longitude values\n",
    "\n",
    "# libraries for displaying images\n",
    "from IPython.display import Image \n",
    "from IPython.core.display import HTML \n",
    "    \n",
    "# tranforming json file into a pandas dataframe library\n",
    "from pandas.io.json import json_normalize\n",
    "\n",
    "!conda install -c conda-forge folium=0.5.0 --yes\n",
    "import folium # plotting library\n",
    "\n",
    "print('Folium installed')\n",
    "print('Libraries imported.')"
   ]
  },
  {
   "cell_type": "markdown",
   "metadata": {
    "button": false,
    "new_sheet": false,
    "run_control": {
     "read_only": false
    }
   },
   "source": [
    "### 2. Call Foursquare API"
   ]
  },
  {
   "cell_type": "code",
   "execution_count": 2,
   "metadata": {
    "button": false,
    "jupyter": {
     "outputs_hidden": false
    },
    "new_sheet": false,
    "run_control": {
     "read_only": false
    }
   },
   "outputs": [
    {
     "name": "stdout",
     "output_type": "stream",
     "text": [
      "Your credentails:\n",
      "CLIENT_ID: 1ZG0G32EIDRSNCOXMYP2VSLBEDYDV0ZX4BXQHPITVDZBIH2O\n",
      "CLIENT_SECRET:S0DTV2TOIEX2YZQTTI2NAVZF2OKTWC3FPHAHIPNMRPEHOZLX\n"
     ]
    }
   ],
   "source": [
    "CLIENT_ID = '1ZG0G32EIDRSNCOXMYP2VSLBEDYDV0ZX4BXQHPITVDZBIH2O' # your Foursquare ID\n",
    "CLIENT_SECRET = 'S0DTV2TOIEX2YZQTTI2NAVZF2OKTWC3FPHAHIPNMRPEHOZLX' # your Foursquare Secret\n",
    "VERSION = '20180604'\n",
    "LIMIT = 30\n",
    "print('Your credentails:')\n",
    "print('CLIENT_ID: ' + CLIENT_ID)\n",
    "print('CLIENT_SECRET:' + CLIENT_SECRET)"
   ]
  },
  {
   "cell_type": "markdown",
   "metadata": {
    "button": false,
    "new_sheet": false,
    "run_control": {
     "read_only": false
    }
   },
   "source": [
    "#### As your friend want to open a coffee shop around University of Melbourne, so we first start by converting theMelbourne University's address to its latitude and longitude coordinates."
   ]
  },
  {
   "cell_type": "code",
   "execution_count": 3,
   "metadata": {
    "button": false,
    "jupyter": {
     "outputs_hidden": false
    },
    "new_sheet": false,
    "run_control": {
     "read_only": false
    }
   },
   "outputs": [
    {
     "name": "stdout",
     "output_type": "stream",
     "text": [
      "-37.8003661 144.9636857\n"
     ]
    }
   ],
   "source": [
    "address = 'Grattan Street, Parkville, VIC 3010'\n",
    "\n",
    "geolocator = Nominatim(user_agent=\"foursquare_agent\")\n",
    "location = geolocator.geocode(address)\n",
    "latitude = location.latitude\n",
    "longitude = location.longitude\n",
    "print(latitude, longitude)"
   ]
  },
  {
   "cell_type": "markdown",
   "metadata": {
    "button": false,
    "new_sheet": false,
    "run_control": {
     "read_only": false
    }
   },
   "source": [
    "#### Search for a specific venue category\n",
    "Search Coffee shop as requested"
   ]
  },
  {
   "cell_type": "code",
   "execution_count": 4,
   "metadata": {
    "button": false,
    "jupyter": {
     "outputs_hidden": false
    },
    "new_sheet": false,
    "run_control": {
     "read_only": false
    },
    "scrolled": true
   },
   "outputs": [
    {
     "name": "stdout",
     "output_type": "stream",
     "text": [
      "Coffee .... OK!\n"
     ]
    }
   ],
   "source": [
    "search_query = 'Coffee'\n",
    "radius = 500\n",
    "print(search_query + ' .... OK!')"
   ]
  },
  {
   "cell_type": "markdown",
   "metadata": {
    "button": false,
    "new_sheet": false,
    "run_control": {
     "read_only": false
    }
   },
   "source": [
    "#### Define the corresponding URL"
   ]
  },
  {
   "cell_type": "code",
   "execution_count": 5,
   "metadata": {
    "button": false,
    "jupyter": {
     "outputs_hidden": false
    },
    "new_sheet": false,
    "run_control": {
     "read_only": false
    }
   },
   "outputs": [
    {
     "data": {
      "text/plain": [
       "'https://api.foursquare.com/v2/venues/search?client_id=1ZG0G32EIDRSNCOXMYP2VSLBEDYDV0ZX4BXQHPITVDZBIH2O&client_secret=S0DTV2TOIEX2YZQTTI2NAVZF2OKTWC3FPHAHIPNMRPEHOZLX&ll=-37.8003661,144.9636857&v=20180604&query=Coffee&radius=500&limit=30'"
      ]
     },
     "execution_count": 5,
     "metadata": {},
     "output_type": "execute_result"
    }
   ],
   "source": [
    "url = 'https://api.foursquare.com/v2/venues/search?client_id={}&client_secret={}&ll={},{}&v={}&query={}&radius={}&limit={}'.format(CLIENT_ID, CLIENT_SECRET, latitude, longitude, VERSION, search_query, radius, LIMIT)\n",
    "url"
   ]
  },
  {
   "cell_type": "markdown",
   "metadata": {
    "button": false,
    "new_sheet": false,
    "run_control": {
     "read_only": false
    }
   },
   "source": [
    "#### Send the GET Request and examine the results"
   ]
  },
  {
   "cell_type": "code",
   "execution_count": 6,
   "metadata": {
    "button": false,
    "jupyter": {
     "outputs_hidden": false
    },
    "new_sheet": false,
    "run_control": {
     "read_only": false
    },
    "scrolled": true
   },
   "outputs": [
    {
     "data": {
      "text/plain": [
       "{'meta': {'code': 200, 'requestId': '5ec3dbcaa2e538001b949bdf'},\n",
       " 'response': {'venues': [{'id': '519c3597e4b0b7830c2d3d16',\n",
       "    'name': 'Assembly Coffee & Tea',\n",
       "    'location': {'address': '60 Pelham St',\n",
       "     'crossStreet': 'Lygon St',\n",
       "     'lat': -37.80275,\n",
       "     'lng': 144.96729,\n",
       "     'labeledLatLngs': [{'label': 'display',\n",
       "       'lat': -37.80275,\n",
       "       'lng': 144.96729}],\n",
       "     'distance': 413,\n",
       "     'postalCode': '3053',\n",
       "     'cc': 'AU',\n",
       "     'neighborhood': 'Carlton',\n",
       "     'city': 'Carlton',\n",
       "     'state': 'VIC',\n",
       "     'country': 'Australia',\n",
       "     'formattedAddress': ['60 Pelham St (Lygon St)',\n",
       "      'Carlton VIC 3053',\n",
       "      'Australia']},\n",
       "    'categories': [{'id': '4bf58dd8d48988d1e0931735',\n",
       "      'name': 'Coffee Shop',\n",
       "      'pluralName': 'Coffee Shops',\n",
       "      'shortName': 'Coffee Shop',\n",
       "      'icon': {'prefix': 'https://ss3.4sqi.net/img/categories_v2/food/coffeeshop_',\n",
       "       'suffix': '.png'},\n",
       "      'primary': True}],\n",
       "    'referralId': 'v-1589894342',\n",
       "    'hasPerk': False},\n",
       "   {'id': '4c906879352da1cd628411b2',\n",
       "    'name': \"Romano's Coffee ERC Melbourne University\",\n",
       "    'location': {'address': 'Grattan Street',\n",
       "     'crossStreet': 'Swanston Street',\n",
       "     'lat': -37.79921805049484,\n",
       "     'lng': 144.96326574287227,\n",
       "     'labeledLatLngs': [{'label': 'display',\n",
       "       'lat': -37.79921805049484,\n",
       "       'lng': 144.96326574287227}],\n",
       "     'distance': 133,\n",
       "     'postalCode': '3000',\n",
       "     'cc': 'AU',\n",
       "     'city': 'Carlton',\n",
       "     'state': 'VIC',\n",
       "     'country': 'Australia',\n",
       "     'formattedAddress': ['Grattan Street (Swanston Street)',\n",
       "      'Carlton VIC 3000',\n",
       "      'Australia']},\n",
       "    'categories': [{'id': '4bf58dd8d48988d16d941735',\n",
       "      'name': 'Café',\n",
       "      'pluralName': 'Cafés',\n",
       "      'shortName': 'Café',\n",
       "      'icon': {'prefix': 'https://ss3.4sqi.net/img/categories_v2/food/cafe_',\n",
       "       'suffix': '.png'},\n",
       "      'primary': True}],\n",
       "    'referralId': 'v-1589894342',\n",
       "    'hasPerk': False},\n",
       "   {'id': '51a189bd498e91a14c54e765',\n",
       "    'name': 'Coffee & Tea',\n",
       "    'location': {'lat': -37.803029,\n",
       "     'lng': 144.967283,\n",
       "     'labeledLatLngs': [{'label': 'display',\n",
       "       'lat': -37.803029,\n",
       "       'lng': 144.967283}],\n",
       "     'distance': 433,\n",
       "     'cc': 'AU',\n",
       "     'country': 'Australia',\n",
       "     'formattedAddress': ['Australia']},\n",
       "    'categories': [{'id': '4bf58dd8d48988d16d941735',\n",
       "      'name': 'Café',\n",
       "      'pluralName': 'Cafés',\n",
       "      'shortName': 'Café',\n",
       "      'icon': {'prefix': 'https://ss3.4sqi.net/img/categories_v2/food/cafe_',\n",
       "       'suffix': '.png'},\n",
       "      'primary': True}],\n",
       "    'referralId': 'v-1589894342',\n",
       "    'hasPerk': False},\n",
       "   {'id': '5679eafc498ea45d268af319',\n",
       "    'name': 'Midsquare Coffee',\n",
       "    'location': {'address': '119 Pelham Street',\n",
       "     'lat': -37.80250850821116,\n",
       "     'lng': 144.96419021328444,\n",
       "     'labeledLatLngs': [{'label': 'display',\n",
       "       'lat': -37.80250850821116,\n",
       "       'lng': 144.96419021328444}],\n",
       "     'distance': 242,\n",
       "     'postalCode': '3053',\n",
       "     'cc': 'AU',\n",
       "     'city': 'Melbourne',\n",
       "     'state': 'VIC',\n",
       "     'country': 'Australia',\n",
       "     'formattedAddress': ['119 Pelham Street',\n",
       "      'Melbourne VIC 3053',\n",
       "      'Australia']},\n",
       "    'categories': [{'id': '4bf58dd8d48988d16d941735',\n",
       "      'name': 'Café',\n",
       "      'pluralName': 'Cafés',\n",
       "      'shortName': 'Café',\n",
       "      'icon': {'prefix': 'https://ss3.4sqi.net/img/categories_v2/food/cafe_',\n",
       "       'suffix': '.png'},\n",
       "      'primary': True}],\n",
       "    'referralId': 'v-1589894342',\n",
       "    'hasPerk': False},\n",
       "   {'id': '4b058746f964a5204b8822e3',\n",
       "    'name': 'Grinders Coffee House',\n",
       "    'location': {'address': '277 Lygon St',\n",
       "     'lat': -37.79901,\n",
       "     'lng': 144.96688,\n",
       "     'labeledLatLngs': [{'label': 'display',\n",
       "       'lat': -37.79901,\n",
       "       'lng': 144.96688}],\n",
       "     'distance': 318,\n",
       "     'postalCode': '3053',\n",
       "     'cc': 'AU',\n",
       "     'city': 'Melbourne',\n",
       "     'state': 'VIC',\n",
       "     'country': 'Australia',\n",
       "     'formattedAddress': ['277 Lygon St', 'Melbourne VIC 3053', 'Australia']},\n",
       "    'categories': [{'id': '4bf58dd8d48988d1e0931735',\n",
       "      'name': 'Coffee Shop',\n",
       "      'pluralName': 'Coffee Shops',\n",
       "      'shortName': 'Coffee Shop',\n",
       "      'icon': {'prefix': 'https://ss3.4sqi.net/img/categories_v2/food/coffeeshop_',\n",
       "       'suffix': '.png'},\n",
       "      'primary': True}],\n",
       "    'referralId': 'v-1589894342',\n",
       "    'hasPerk': False},\n",
       "   {'id': '56b90ddf498e9132fcce8837',\n",
       "    'name': 'Just Coffee',\n",
       "    'location': {'lat': -37.802741,\n",
       "     'lng': 144.960487,\n",
       "     'labeledLatLngs': [{'label': 'display',\n",
       "       'lat': -37.802741,\n",
       "       'lng': 144.960487}],\n",
       "     'distance': 386,\n",
       "     'cc': 'AU',\n",
       "     'country': 'Australia',\n",
       "     'formattedAddress': ['Australia']},\n",
       "    'categories': [{'id': '4bf58dd8d48988d16d941735',\n",
       "      'name': 'Café',\n",
       "      'pluralName': 'Cafés',\n",
       "      'shortName': 'Café',\n",
       "      'icon': {'prefix': 'https://ss3.4sqi.net/img/categories_v2/food/cafe_',\n",
       "       'suffix': '.png'},\n",
       "      'primary': True}],\n",
       "    'referralId': 'v-1589894342',\n",
       "    'hasPerk': False},\n",
       "   {'id': '559daadd498e846b3fedaa40',\n",
       "    'name': 'Wild Timor Coffee Co.',\n",
       "    'location': {'lat': -37.79865731794099,\n",
       "     'lng': 144.96556237367216,\n",
       "     'labeledLatLngs': [{'label': 'display',\n",
       "       'lat': -37.79865731794099,\n",
       "       'lng': 144.96556237367216}],\n",
       "     'distance': 251,\n",
       "     'cc': 'AU',\n",
       "     'country': 'Australia',\n",
       "     'formattedAddress': ['Australia']},\n",
       "    'categories': [{'id': '4bf58dd8d48988d16d941735',\n",
       "      'name': 'Café',\n",
       "      'pluralName': 'Cafés',\n",
       "      'shortName': 'Café',\n",
       "      'icon': {'prefix': 'https://ss3.4sqi.net/img/categories_v2/food/cafe_',\n",
       "       'suffix': '.png'},\n",
       "      'primary': True}],\n",
       "    'referralId': 'v-1589894342',\n",
       "    'hasPerk': False},\n",
       "   {'id': '4b541729f964a520f0b127e3',\n",
       "    'name': 'Lavazza Coffee',\n",
       "    'location': {'address': '224 Faraday St',\n",
       "     'lat': -37.798403,\n",
       "     'lng': 144.966889,\n",
       "     'labeledLatLngs': [{'label': 'display',\n",
       "       'lat': -37.798403,\n",
       "       'lng': 144.966889}],\n",
       "     'distance': 356,\n",
       "     'postalCode': '3053',\n",
       "     'cc': 'AU',\n",
       "     'city': 'Carlton',\n",
       "     'state': 'VIC',\n",
       "     'country': 'Australia',\n",
       "     'formattedAddress': ['224 Faraday St', 'Carlton VIC 3053', 'Australia']},\n",
       "    'categories': [{'id': '4bf58dd8d48988d1e0931735',\n",
       "      'name': 'Coffee Shop',\n",
       "      'pluralName': 'Coffee Shops',\n",
       "      'shortName': 'Coffee Shop',\n",
       "      'icon': {'prefix': 'https://ss3.4sqi.net/img/categories_v2/food/coffeeshop_',\n",
       "       'suffix': '.png'},\n",
       "      'primary': True}],\n",
       "    'referralId': 'v-1589894342',\n",
       "    'hasPerk': False},\n",
       "   {'id': '587fe0015da8f41df1af3389',\n",
       "    'name': 'Hudsons Coffee',\n",
       "    'location': {'address': 'Melbourne Private Hospital, 1F, Royal Parade',\n",
       "     'lat': -37.798314,\n",
       "     'lng': 144.957228,\n",
       "     'labeledLatLngs': [{'label': 'display',\n",
       "       'lat': -37.798314,\n",
       "       'lng': 144.957228}],\n",
       "     'distance': 612,\n",
       "     'postalCode': '3052',\n",
       "     'cc': 'AU',\n",
       "     'city': 'Parkville',\n",
       "     'state': 'VIC',\n",
       "     'country': 'Australia',\n",
       "     'formattedAddress': ['Melbourne Private Hospital, 1F, Royal Parade',\n",
       "      'Parkville VIC 3052',\n",
       "      'Australia']},\n",
       "    'categories': [{'id': '4bf58dd8d48988d143941735',\n",
       "      'name': 'Breakfast Spot',\n",
       "      'pluralName': 'Breakfast Spots',\n",
       "      'shortName': 'Breakfast',\n",
       "      'icon': {'prefix': 'https://ss3.4sqi.net/img/categories_v2/food/breakfast_',\n",
       "       'suffix': '.png'},\n",
       "      'primary': True}],\n",
       "    'referralId': 'v-1589894342',\n",
       "    'hasPerk': False},\n",
       "   {'id': '4c9afaa2d4b1b1f71703d535',\n",
       "    'name': \"Milky's Coffee Emporium\",\n",
       "    'location': {'address': 'Pelham st',\n",
       "     'lat': -37.802922,\n",
       "     'lng': 144.966976,\n",
       "     'labeledLatLngs': [{'label': 'display',\n",
       "       'lat': -37.802922,\n",
       "       'lng': 144.966976}],\n",
       "     'distance': 405,\n",
       "     'postalCode': '3053',\n",
       "     'cc': 'AU',\n",
       "     'city': 'Carlton',\n",
       "     'state': 'VIC',\n",
       "     'country': 'Australia',\n",
       "     'formattedAddress': ['Pelham st', 'Carlton VIC 3053', 'Australia']},\n",
       "    'categories': [{'id': '4bf58dd8d48988d1e0931735',\n",
       "      'name': 'Coffee Shop',\n",
       "      'pluralName': 'Coffee Shops',\n",
       "      'shortName': 'Coffee Shop',\n",
       "      'icon': {'prefix': 'https://ss3.4sqi.net/img/categories_v2/food/coffeeshop_',\n",
       "       'suffix': '.png'},\n",
       "      'primary': True}],\n",
       "    'referralId': 'v-1589894342',\n",
       "    'hasPerk': False},\n",
       "   {'id': '4e658b67ae60e9edf712e5f7',\n",
       "    'name': 'Jasper Coffee',\n",
       "    'location': {'address': 'University of Melbourne',\n",
       "     'lat': -37.797048537168855,\n",
       "     'lng': 144.96128305920556,\n",
       "     'labeledLatLngs': [{'label': 'display',\n",
       "       'lat': -37.797048537168855,\n",
       "       'lng': 144.96128305920556}],\n",
       "     'distance': 425,\n",
       "     'postalCode': '3010',\n",
       "     'cc': 'AU',\n",
       "     'city': 'Parkville',\n",
       "     'state': 'VIC',\n",
       "     'country': 'Australia',\n",
       "     'formattedAddress': ['University of Melbourne',\n",
       "      'Parkville VIC 3010',\n",
       "      'Australia']},\n",
       "    'categories': [{'id': '4bf58dd8d48988d1e0931735',\n",
       "      'name': 'Coffee Shop',\n",
       "      'pluralName': 'Coffee Shops',\n",
       "      'shortName': 'Coffee Shop',\n",
       "      'icon': {'prefix': 'https://ss3.4sqi.net/img/categories_v2/food/coffeeshop_',\n",
       "       'suffix': '.png'},\n",
       "      'primary': True}],\n",
       "    'referralId': 'v-1589894342',\n",
       "    'hasPerk': False},\n",
       "   {'id': '4fe00762e4b0f90ab171d2c7',\n",
       "    'name': 'Ultimate Coffee Bar',\n",
       "    'location': {'address': '189 Elgin St.',\n",
       "     'crossStreet': 'Lygon St.',\n",
       "     'lat': -37.79744,\n",
       "     'lng': 144.96822,\n",
       "     'labeledLatLngs': [{'label': 'display',\n",
       "       'lat': -37.79744,\n",
       "       'lng': 144.96822}],\n",
       "     'distance': 514,\n",
       "     'postalCode': '3053',\n",
       "     'cc': 'AU',\n",
       "     'city': 'Carlton',\n",
       "     'state': 'VIC',\n",
       "     'country': 'Australia',\n",
       "     'formattedAddress': ['189 Elgin St. (Lygon St.)',\n",
       "      'Carlton VIC 3053',\n",
       "      'Australia']},\n",
       "    'categories': [{'id': '4bf58dd8d48988d16d941735',\n",
       "      'name': 'Café',\n",
       "      'pluralName': 'Cafés',\n",
       "      'shortName': 'Café',\n",
       "      'icon': {'prefix': 'https://ss3.4sqi.net/img/categories_v2/food/cafe_',\n",
       "       'suffix': '.png'},\n",
       "      'primary': True}],\n",
       "    'referralId': 'v-1589894342',\n",
       "    'hasPerk': False},\n",
       "   {'id': '5b31a6fe4420d8002cc0307c',\n",
       "    'name': 'Book Coffee Print Work',\n",
       "    'location': {'address': '255 Queensbury St',\n",
       "     'lat': -37.804419,\n",
       "     'lng': 144.961,\n",
       "     'labeledLatLngs': [{'label': 'display',\n",
       "       'lat': -37.804419,\n",
       "       'lng': 144.961}],\n",
       "     'distance': 509,\n",
       "     'postalCode': '3053',\n",
       "     'cc': 'AU',\n",
       "     'city': 'Carlton',\n",
       "     'state': 'VIC',\n",
       "     'country': 'Australia',\n",
       "     'formattedAddress': ['255 Queensbury St',\n",
       "      'Carlton VIC 3053',\n",
       "      'Australia']},\n",
       "    'categories': [{'id': '4bf58dd8d48988d1e0931735',\n",
       "      'name': 'Coffee Shop',\n",
       "      'pluralName': 'Coffee Shops',\n",
       "      'shortName': 'Coffee Shop',\n",
       "      'icon': {'prefix': 'https://ss3.4sqi.net/img/categories_v2/food/coffeeshop_',\n",
       "       'suffix': '.png'},\n",
       "      'primary': True}],\n",
       "    'referralId': 'v-1589894342',\n",
       "    'hasPerk': False},\n",
       "   {'id': '5b135c9d04d1ae002ccdecff',\n",
       "    'name': 'Everyday Coffee',\n",
       "    'location': {'address': '225 Queensberry Street',\n",
       "     'lat': -37.804522,\n",
       "     'lng': 144.96117,\n",
       "     'labeledLatLngs': [{'label': 'display',\n",
       "       'lat': -37.804522,\n",
       "       'lng': 144.96117}],\n",
       "     'distance': 512,\n",
       "     'postalCode': '3053',\n",
       "     'cc': 'AU',\n",
       "     'city': 'Melbourne',\n",
       "     'state': 'VIC',\n",
       "     'country': 'Australia',\n",
       "     'formattedAddress': ['225 Queensberry Street',\n",
       "      'Melbourne VIC 3053',\n",
       "      'Australia']},\n",
       "    'categories': [{'id': '4bf58dd8d48988d1e0931735',\n",
       "      'name': 'Coffee Shop',\n",
       "      'pluralName': 'Coffee Shops',\n",
       "      'shortName': 'Coffee Shop',\n",
       "      'icon': {'prefix': 'https://ss3.4sqi.net/img/categories_v2/food/coffeeshop_',\n",
       "       'suffix': '.png'},\n",
       "      'primary': True}],\n",
       "    'referralId': 'v-1589894342',\n",
       "    'hasPerk': False},\n",
       "   {'id': '50f6173be4b0cdce511debaa',\n",
       "    'name': 'Market Lane Coffee',\n",
       "    'location': {'address': '176 Faraday St',\n",
       "     'lat': -37.798637,\n",
       "     'lng': 144.96846,\n",
       "     'labeledLatLngs': [{'label': 'display',\n",
       "       'lat': -37.798637,\n",
       "       'lng': 144.96846}],\n",
       "     'distance': 461,\n",
       "     'postalCode': '3053',\n",
       "     'cc': 'AU',\n",
       "     'neighborhood': 'Carlton',\n",
       "     'city': 'Carlton',\n",
       "     'state': 'VIC',\n",
       "     'country': 'Australia',\n",
       "     'formattedAddress': ['176 Faraday St', 'Carlton VIC 3053', 'Australia']},\n",
       "    'categories': [{'id': '4bf58dd8d48988d1e0931735',\n",
       "      'name': 'Coffee Shop',\n",
       "      'pluralName': 'Coffee Shops',\n",
       "      'shortName': 'Coffee Shop',\n",
       "      'icon': {'prefix': 'https://ss3.4sqi.net/img/categories_v2/food/coffeeshop_',\n",
       "       'suffix': '.png'},\n",
       "      'primary': True}],\n",
       "    'referralId': 'v-1589894342',\n",
       "    'hasPerk': False},\n",
       "   {'id': '5cd4fc1a95d986003997befe',\n",
       "    'name': 'Axil Coffee Roasters',\n",
       "    'location': {'address': 'University of Melbourne',\n",
       "     'lat': -37.796127,\n",
       "     'lng': 144.95868,\n",
       "     'labeledLatLngs': [{'label': 'display',\n",
       "       'lat': -37.796127,\n",
       "       'lng': 144.95868}],\n",
       "     'distance': 645,\n",
       "     'postalCode': '3052',\n",
       "     'cc': 'AU',\n",
       "     'city': 'Parkville',\n",
       "     'state': 'VIC',\n",
       "     'country': 'Australia',\n",
       "     'formattedAddress': ['University of Melbourne',\n",
       "      'Parkville VIC 3052',\n",
       "      'Australia']},\n",
       "    'categories': [{'id': '4bf58dd8d48988d1e0931735',\n",
       "      'name': 'Coffee Shop',\n",
       "      'pluralName': 'Coffee Shops',\n",
       "      'shortName': 'Coffee Shop',\n",
       "      'icon': {'prefix': 'https://ss3.4sqi.net/img/categories_v2/food/coffeeshop_',\n",
       "       'suffix': '.png'},\n",
       "      'primary': True}],\n",
       "    'referralId': 'v-1589894342',\n",
       "    'hasPerk': False},\n",
       "   {'id': '54dc008d498e2dfd2baecf7c',\n",
       "    'name': 'The Vertue of the Coffee Drink',\n",
       "    'location': {'address': '8 Raffa Place Carlton',\n",
       "     'crossStreet': 'Cochrane Pl',\n",
       "     'lat': -37.79764825840715,\n",
       "     'lng': 144.96836521568414,\n",
       "     'labeledLatLngs': [{'label': 'display',\n",
       "       'lat': -37.79764825840715,\n",
       "       'lng': 144.96836521568414}],\n",
       "     'distance': 510,\n",
       "     'postalCode': '3053',\n",
       "     'cc': 'AU',\n",
       "     'city': 'Melbourne',\n",
       "     'state': 'VIC',\n",
       "     'country': 'Australia',\n",
       "     'formattedAddress': ['8 Raffa Place Carlton (Cochrane Pl)',\n",
       "      'Melbourne VIC 3053',\n",
       "      'Australia']},\n",
       "    'categories': [{'id': '4bf58dd8d48988d1e0931735',\n",
       "      'name': 'Coffee Shop',\n",
       "      'pluralName': 'Coffee Shops',\n",
       "      'shortName': 'Coffee Shop',\n",
       "      'icon': {'prefix': 'https://ss3.4sqi.net/img/categories_v2/food/coffeeshop_',\n",
       "       'suffix': '.png'},\n",
       "      'primary': True}],\n",
       "    'referralId': 'v-1589894342',\n",
       "    'hasPerk': False},\n",
       "   {'id': '4c2182af13c00f47e52986de',\n",
       "    'name': 'Lygon Street Cafe',\n",
       "    'location': {'address': '275 Lygon St.',\n",
       "     'lat': -37.79908502894575,\n",
       "     'lng': 144.96727582760627,\n",
       "     'labeledLatLngs': [{'label': 'display',\n",
       "       'lat': -37.79908502894575,\n",
       "       'lng': 144.96727582760627}],\n",
       "     'distance': 346,\n",
       "     'postalCode': '3053',\n",
       "     'cc': 'AU',\n",
       "     'city': 'Carlton',\n",
       "     'state': 'VIC',\n",
       "     'country': 'Australia',\n",
       "     'formattedAddress': ['275 Lygon St.', 'Carlton VIC 3053', 'Australia']},\n",
       "    'categories': [{'id': '4bf58dd8d48988d16d941735',\n",
       "      'name': 'Café',\n",
       "      'pluralName': 'Cafés',\n",
       "      'shortName': 'Café',\n",
       "      'icon': {'prefix': 'https://ss3.4sqi.net/img/categories_v2/food/cafe_',\n",
       "       'suffix': '.png'},\n",
       "      'primary': True}],\n",
       "    'referralId': 'v-1589894342',\n",
       "    'hasPerk': False},\n",
       "   {'id': '4b072db1f964a520eef822e3',\n",
       "    'name': 'Seven Seeds',\n",
       "    'location': {'address': '114 Berkeley St.',\n",
       "     'crossStreet': 'alt entrance on Barry St.',\n",
       "     'lat': -37.80287,\n",
       "     'lng': 144.95912,\n",
       "     'labeledLatLngs': [{'label': 'display',\n",
       "       'lat': -37.80287,\n",
       "       'lng': 144.95912}],\n",
       "     'distance': 488,\n",
       "     'postalCode': '3053',\n",
       "     'cc': 'AU',\n",
       "     'neighborhood': 'Carlton',\n",
       "     'city': 'Carlton',\n",
       "     'state': 'VIC',\n",
       "     'country': 'Australia',\n",
       "     'formattedAddress': ['114 Berkeley St. (alt entrance on Barry St.)',\n",
       "      'Carlton VIC 3053',\n",
       "      'Australia']},\n",
       "    'categories': [{'id': '4bf58dd8d48988d16d941735',\n",
       "      'name': 'Café',\n",
       "      'pluralName': 'Cafés',\n",
       "      'shortName': 'Café',\n",
       "      'icon': {'prefix': 'https://ss3.4sqi.net/img/categories_v2/food/cafe_',\n",
       "       'suffix': '.png'},\n",
       "      'primary': True}],\n",
       "    'referralId': 'v-1589894342',\n",
       "    'hasPerk': False}]}}"
      ]
     },
     "execution_count": 6,
     "metadata": {},
     "output_type": "execute_result"
    }
   ],
   "source": [
    "results = requests.get(url).json()\n",
    "results"
   ]
  },
  {
   "cell_type": "markdown",
   "metadata": {
    "button": false,
    "new_sheet": false,
    "run_control": {
     "read_only": false
    }
   },
   "source": [
    "####  Get relevant part of JSON and transform it into a *pandas* dataframe"
   ]
  },
  {
   "cell_type": "code",
   "execution_count": 8,
   "metadata": {
    "button": false,
    "jupyter": {
     "outputs_hidden": false
    },
    "new_sheet": false,
    "run_control": {
     "read_only": false
    }
   },
   "outputs": [
    {
     "data": {
      "text/html": [
       "<div>\n",
       "<style scoped>\n",
       "    .dataframe tbody tr th:only-of-type {\n",
       "        vertical-align: middle;\n",
       "    }\n",
       "\n",
       "    .dataframe tbody tr th {\n",
       "        vertical-align: top;\n",
       "    }\n",
       "\n",
       "    .dataframe thead th {\n",
       "        text-align: right;\n",
       "    }\n",
       "</style>\n",
       "<table border=\"1\" class=\"dataframe\">\n",
       "  <thead>\n",
       "    <tr style=\"text-align: right;\">\n",
       "      <th></th>\n",
       "      <th>categories</th>\n",
       "      <th>hasPerk</th>\n",
       "      <th>id</th>\n",
       "      <th>location.address</th>\n",
       "      <th>location.cc</th>\n",
       "      <th>location.city</th>\n",
       "      <th>location.country</th>\n",
       "      <th>location.crossStreet</th>\n",
       "      <th>location.distance</th>\n",
       "      <th>location.formattedAddress</th>\n",
       "      <th>location.labeledLatLngs</th>\n",
       "      <th>location.lat</th>\n",
       "      <th>location.lng</th>\n",
       "      <th>location.neighborhood</th>\n",
       "      <th>location.postalCode</th>\n",
       "      <th>location.state</th>\n",
       "      <th>name</th>\n",
       "      <th>referralId</th>\n",
       "    </tr>\n",
       "  </thead>\n",
       "  <tbody>\n",
       "    <tr>\n",
       "      <th>0</th>\n",
       "      <td>[{'id': '4bf58dd8d48988d1e0931735', 'name': 'C...</td>\n",
       "      <td>False</td>\n",
       "      <td>519c3597e4b0b7830c2d3d16</td>\n",
       "      <td>60 Pelham St</td>\n",
       "      <td>AU</td>\n",
       "      <td>Carlton</td>\n",
       "      <td>Australia</td>\n",
       "      <td>Lygon St</td>\n",
       "      <td>413</td>\n",
       "      <td>[60 Pelham St (Lygon St), Carlton VIC 3053, Au...</td>\n",
       "      <td>[{'label': 'display', 'lat': -37.80275, 'lng':...</td>\n",
       "      <td>-37.802750</td>\n",
       "      <td>144.967290</td>\n",
       "      <td>Carlton</td>\n",
       "      <td>3053</td>\n",
       "      <td>VIC</td>\n",
       "      <td>Assembly Coffee &amp; Tea</td>\n",
       "      <td>v-1589894342</td>\n",
       "    </tr>\n",
       "    <tr>\n",
       "      <th>1</th>\n",
       "      <td>[{'id': '4bf58dd8d48988d16d941735', 'name': 'C...</td>\n",
       "      <td>False</td>\n",
       "      <td>4c906879352da1cd628411b2</td>\n",
       "      <td>Grattan Street</td>\n",
       "      <td>AU</td>\n",
       "      <td>Carlton</td>\n",
       "      <td>Australia</td>\n",
       "      <td>Swanston Street</td>\n",
       "      <td>133</td>\n",
       "      <td>[Grattan Street (Swanston Street), Carlton VIC...</td>\n",
       "      <td>[{'label': 'display', 'lat': -37.7992180504948...</td>\n",
       "      <td>-37.799218</td>\n",
       "      <td>144.963266</td>\n",
       "      <td>NaN</td>\n",
       "      <td>3000</td>\n",
       "      <td>VIC</td>\n",
       "      <td>Romano's Coffee ERC Melbourne University</td>\n",
       "      <td>v-1589894342</td>\n",
       "    </tr>\n",
       "    <tr>\n",
       "      <th>2</th>\n",
       "      <td>[{'id': '4bf58dd8d48988d16d941735', 'name': 'C...</td>\n",
       "      <td>False</td>\n",
       "      <td>51a189bd498e91a14c54e765</td>\n",
       "      <td>NaN</td>\n",
       "      <td>AU</td>\n",
       "      <td>NaN</td>\n",
       "      <td>Australia</td>\n",
       "      <td>NaN</td>\n",
       "      <td>433</td>\n",
       "      <td>[Australia]</td>\n",
       "      <td>[{'label': 'display', 'lat': -37.803029, 'lng'...</td>\n",
       "      <td>-37.803029</td>\n",
       "      <td>144.967283</td>\n",
       "      <td>NaN</td>\n",
       "      <td>NaN</td>\n",
       "      <td>NaN</td>\n",
       "      <td>Coffee &amp; Tea</td>\n",
       "      <td>v-1589894342</td>\n",
       "    </tr>\n",
       "    <tr>\n",
       "      <th>3</th>\n",
       "      <td>[{'id': '4bf58dd8d48988d16d941735', 'name': 'C...</td>\n",
       "      <td>False</td>\n",
       "      <td>5679eafc498ea45d268af319</td>\n",
       "      <td>119 Pelham Street</td>\n",
       "      <td>AU</td>\n",
       "      <td>Melbourne</td>\n",
       "      <td>Australia</td>\n",
       "      <td>NaN</td>\n",
       "      <td>242</td>\n",
       "      <td>[119 Pelham Street, Melbourne VIC 3053, Austra...</td>\n",
       "      <td>[{'label': 'display', 'lat': -37.8025085082111...</td>\n",
       "      <td>-37.802509</td>\n",
       "      <td>144.964190</td>\n",
       "      <td>NaN</td>\n",
       "      <td>3053</td>\n",
       "      <td>VIC</td>\n",
       "      <td>Midsquare Coffee</td>\n",
       "      <td>v-1589894342</td>\n",
       "    </tr>\n",
       "    <tr>\n",
       "      <th>4</th>\n",
       "      <td>[{'id': '4bf58dd8d48988d1e0931735', 'name': 'C...</td>\n",
       "      <td>False</td>\n",
       "      <td>4b058746f964a5204b8822e3</td>\n",
       "      <td>277 Lygon St</td>\n",
       "      <td>AU</td>\n",
       "      <td>Melbourne</td>\n",
       "      <td>Australia</td>\n",
       "      <td>NaN</td>\n",
       "      <td>318</td>\n",
       "      <td>[277 Lygon St, Melbourne VIC 3053, Australia]</td>\n",
       "      <td>[{'label': 'display', 'lat': -37.79901, 'lng':...</td>\n",
       "      <td>-37.799010</td>\n",
       "      <td>144.966880</td>\n",
       "      <td>NaN</td>\n",
       "      <td>3053</td>\n",
       "      <td>VIC</td>\n",
       "      <td>Grinders Coffee House</td>\n",
       "      <td>v-1589894342</td>\n",
       "    </tr>\n",
       "  </tbody>\n",
       "</table>\n",
       "</div>"
      ],
      "text/plain": [
       "                                          categories  hasPerk  \\\n",
       "0  [{'id': '4bf58dd8d48988d1e0931735', 'name': 'C...    False   \n",
       "1  [{'id': '4bf58dd8d48988d16d941735', 'name': 'C...    False   \n",
       "2  [{'id': '4bf58dd8d48988d16d941735', 'name': 'C...    False   \n",
       "3  [{'id': '4bf58dd8d48988d16d941735', 'name': 'C...    False   \n",
       "4  [{'id': '4bf58dd8d48988d1e0931735', 'name': 'C...    False   \n",
       "\n",
       "                         id   location.address location.cc location.city  \\\n",
       "0  519c3597e4b0b7830c2d3d16       60 Pelham St          AU       Carlton   \n",
       "1  4c906879352da1cd628411b2     Grattan Street          AU       Carlton   \n",
       "2  51a189bd498e91a14c54e765                NaN          AU           NaN   \n",
       "3  5679eafc498ea45d268af319  119 Pelham Street          AU     Melbourne   \n",
       "4  4b058746f964a5204b8822e3       277 Lygon St          AU     Melbourne   \n",
       "\n",
       "  location.country location.crossStreet  location.distance  \\\n",
       "0        Australia             Lygon St                413   \n",
       "1        Australia      Swanston Street                133   \n",
       "2        Australia                  NaN                433   \n",
       "3        Australia                  NaN                242   \n",
       "4        Australia                  NaN                318   \n",
       "\n",
       "                           location.formattedAddress  \\\n",
       "0  [60 Pelham St (Lygon St), Carlton VIC 3053, Au...   \n",
       "1  [Grattan Street (Swanston Street), Carlton VIC...   \n",
       "2                                        [Australia]   \n",
       "3  [119 Pelham Street, Melbourne VIC 3053, Austra...   \n",
       "4      [277 Lygon St, Melbourne VIC 3053, Australia]   \n",
       "\n",
       "                             location.labeledLatLngs  location.lat  \\\n",
       "0  [{'label': 'display', 'lat': -37.80275, 'lng':...    -37.802750   \n",
       "1  [{'label': 'display', 'lat': -37.7992180504948...    -37.799218   \n",
       "2  [{'label': 'display', 'lat': -37.803029, 'lng'...    -37.803029   \n",
       "3  [{'label': 'display', 'lat': -37.8025085082111...    -37.802509   \n",
       "4  [{'label': 'display', 'lat': -37.79901, 'lng':...    -37.799010   \n",
       "\n",
       "   location.lng location.neighborhood location.postalCode location.state  \\\n",
       "0    144.967290               Carlton                3053            VIC   \n",
       "1    144.963266                   NaN                3000            VIC   \n",
       "2    144.967283                   NaN                 NaN            NaN   \n",
       "3    144.964190                   NaN                3053            VIC   \n",
       "4    144.966880                   NaN                3053            VIC   \n",
       "\n",
       "                                       name    referralId  \n",
       "0                     Assembly Coffee & Tea  v-1589894342  \n",
       "1  Romano's Coffee ERC Melbourne University  v-1589894342  \n",
       "2                              Coffee & Tea  v-1589894342  \n",
       "3                          Midsquare Coffee  v-1589894342  \n",
       "4                     Grinders Coffee House  v-1589894342  "
      ]
     },
     "execution_count": 8,
     "metadata": {},
     "output_type": "execute_result"
    }
   ],
   "source": [
    "# assign relevant part of JSON to venues\n",
    "venues = results['response']['venues']\n",
    "\n",
    "# tranform venues into a dataframe\n",
    "dataframe = json_normalize(venues)\n",
    "dataframe.head()"
   ]
  },
  {
   "cell_type": "markdown",
   "metadata": {
    "button": false,
    "new_sheet": false,
    "run_control": {
     "read_only": false
    }
   },
   "source": [
    "####  Define information of interest and filter dataframe"
   ]
  },
  {
   "cell_type": "code",
   "execution_count": 9,
   "metadata": {
    "button": false,
    "jupyter": {
     "outputs_hidden": false
    },
    "new_sheet": false,
    "run_control": {
     "read_only": false
    },
    "scrolled": true
   },
   "outputs": [
    {
     "data": {
      "text/html": [
       "<div>\n",
       "<style scoped>\n",
       "    .dataframe tbody tr th:only-of-type {\n",
       "        vertical-align: middle;\n",
       "    }\n",
       "\n",
       "    .dataframe tbody tr th {\n",
       "        vertical-align: top;\n",
       "    }\n",
       "\n",
       "    .dataframe thead th {\n",
       "        text-align: right;\n",
       "    }\n",
       "</style>\n",
       "<table border=\"1\" class=\"dataframe\">\n",
       "  <thead>\n",
       "    <tr style=\"text-align: right;\">\n",
       "      <th></th>\n",
       "      <th>name</th>\n",
       "      <th>categories</th>\n",
       "      <th>address</th>\n",
       "      <th>cc</th>\n",
       "      <th>city</th>\n",
       "      <th>country</th>\n",
       "      <th>crossStreet</th>\n",
       "      <th>distance</th>\n",
       "      <th>formattedAddress</th>\n",
       "      <th>labeledLatLngs</th>\n",
       "      <th>lat</th>\n",
       "      <th>lng</th>\n",
       "      <th>neighborhood</th>\n",
       "      <th>postalCode</th>\n",
       "      <th>state</th>\n",
       "      <th>id</th>\n",
       "    </tr>\n",
       "  </thead>\n",
       "  <tbody>\n",
       "    <tr>\n",
       "      <th>0</th>\n",
       "      <td>Assembly Coffee &amp; Tea</td>\n",
       "      <td>Coffee Shop</td>\n",
       "      <td>60 Pelham St</td>\n",
       "      <td>AU</td>\n",
       "      <td>Carlton</td>\n",
       "      <td>Australia</td>\n",
       "      <td>Lygon St</td>\n",
       "      <td>413</td>\n",
       "      <td>[60 Pelham St (Lygon St), Carlton VIC 3053, Au...</td>\n",
       "      <td>[{'label': 'display', 'lat': -37.80275, 'lng':...</td>\n",
       "      <td>-37.802750</td>\n",
       "      <td>144.967290</td>\n",
       "      <td>Carlton</td>\n",
       "      <td>3053</td>\n",
       "      <td>VIC</td>\n",
       "      <td>519c3597e4b0b7830c2d3d16</td>\n",
       "    </tr>\n",
       "    <tr>\n",
       "      <th>1</th>\n",
       "      <td>Romano's Coffee ERC Melbourne University</td>\n",
       "      <td>Café</td>\n",
       "      <td>Grattan Street</td>\n",
       "      <td>AU</td>\n",
       "      <td>Carlton</td>\n",
       "      <td>Australia</td>\n",
       "      <td>Swanston Street</td>\n",
       "      <td>133</td>\n",
       "      <td>[Grattan Street (Swanston Street), Carlton VIC...</td>\n",
       "      <td>[{'label': 'display', 'lat': -37.7992180504948...</td>\n",
       "      <td>-37.799218</td>\n",
       "      <td>144.963266</td>\n",
       "      <td>NaN</td>\n",
       "      <td>3000</td>\n",
       "      <td>VIC</td>\n",
       "      <td>4c906879352da1cd628411b2</td>\n",
       "    </tr>\n",
       "    <tr>\n",
       "      <th>2</th>\n",
       "      <td>Coffee &amp; Tea</td>\n",
       "      <td>Café</td>\n",
       "      <td>NaN</td>\n",
       "      <td>AU</td>\n",
       "      <td>NaN</td>\n",
       "      <td>Australia</td>\n",
       "      <td>NaN</td>\n",
       "      <td>433</td>\n",
       "      <td>[Australia]</td>\n",
       "      <td>[{'label': 'display', 'lat': -37.803029, 'lng'...</td>\n",
       "      <td>-37.803029</td>\n",
       "      <td>144.967283</td>\n",
       "      <td>NaN</td>\n",
       "      <td>NaN</td>\n",
       "      <td>NaN</td>\n",
       "      <td>51a189bd498e91a14c54e765</td>\n",
       "    </tr>\n",
       "    <tr>\n",
       "      <th>3</th>\n",
       "      <td>Midsquare Coffee</td>\n",
       "      <td>Café</td>\n",
       "      <td>119 Pelham Street</td>\n",
       "      <td>AU</td>\n",
       "      <td>Melbourne</td>\n",
       "      <td>Australia</td>\n",
       "      <td>NaN</td>\n",
       "      <td>242</td>\n",
       "      <td>[119 Pelham Street, Melbourne VIC 3053, Austra...</td>\n",
       "      <td>[{'label': 'display', 'lat': -37.8025085082111...</td>\n",
       "      <td>-37.802509</td>\n",
       "      <td>144.964190</td>\n",
       "      <td>NaN</td>\n",
       "      <td>3053</td>\n",
       "      <td>VIC</td>\n",
       "      <td>5679eafc498ea45d268af319</td>\n",
       "    </tr>\n",
       "    <tr>\n",
       "      <th>4</th>\n",
       "      <td>Grinders Coffee House</td>\n",
       "      <td>Coffee Shop</td>\n",
       "      <td>277 Lygon St</td>\n",
       "      <td>AU</td>\n",
       "      <td>Melbourne</td>\n",
       "      <td>Australia</td>\n",
       "      <td>NaN</td>\n",
       "      <td>318</td>\n",
       "      <td>[277 Lygon St, Melbourne VIC 3053, Australia]</td>\n",
       "      <td>[{'label': 'display', 'lat': -37.79901, 'lng':...</td>\n",
       "      <td>-37.799010</td>\n",
       "      <td>144.966880</td>\n",
       "      <td>NaN</td>\n",
       "      <td>3053</td>\n",
       "      <td>VIC</td>\n",
       "      <td>4b058746f964a5204b8822e3</td>\n",
       "    </tr>\n",
       "    <tr>\n",
       "      <th>5</th>\n",
       "      <td>Just Coffee</td>\n",
       "      <td>Café</td>\n",
       "      <td>NaN</td>\n",
       "      <td>AU</td>\n",
       "      <td>NaN</td>\n",
       "      <td>Australia</td>\n",
       "      <td>NaN</td>\n",
       "      <td>386</td>\n",
       "      <td>[Australia]</td>\n",
       "      <td>[{'label': 'display', 'lat': -37.802741, 'lng'...</td>\n",
       "      <td>-37.802741</td>\n",
       "      <td>144.960487</td>\n",
       "      <td>NaN</td>\n",
       "      <td>NaN</td>\n",
       "      <td>NaN</td>\n",
       "      <td>56b90ddf498e9132fcce8837</td>\n",
       "    </tr>\n",
       "    <tr>\n",
       "      <th>6</th>\n",
       "      <td>Wild Timor Coffee Co.</td>\n",
       "      <td>Café</td>\n",
       "      <td>NaN</td>\n",
       "      <td>AU</td>\n",
       "      <td>NaN</td>\n",
       "      <td>Australia</td>\n",
       "      <td>NaN</td>\n",
       "      <td>251</td>\n",
       "      <td>[Australia]</td>\n",
       "      <td>[{'label': 'display', 'lat': -37.7986573179409...</td>\n",
       "      <td>-37.798657</td>\n",
       "      <td>144.965562</td>\n",
       "      <td>NaN</td>\n",
       "      <td>NaN</td>\n",
       "      <td>NaN</td>\n",
       "      <td>559daadd498e846b3fedaa40</td>\n",
       "    </tr>\n",
       "    <tr>\n",
       "      <th>7</th>\n",
       "      <td>Lavazza Coffee</td>\n",
       "      <td>Coffee Shop</td>\n",
       "      <td>224 Faraday St</td>\n",
       "      <td>AU</td>\n",
       "      <td>Carlton</td>\n",
       "      <td>Australia</td>\n",
       "      <td>NaN</td>\n",
       "      <td>356</td>\n",
       "      <td>[224 Faraday St, Carlton VIC 3053, Australia]</td>\n",
       "      <td>[{'label': 'display', 'lat': -37.798403, 'lng'...</td>\n",
       "      <td>-37.798403</td>\n",
       "      <td>144.966889</td>\n",
       "      <td>NaN</td>\n",
       "      <td>3053</td>\n",
       "      <td>VIC</td>\n",
       "      <td>4b541729f964a520f0b127e3</td>\n",
       "    </tr>\n",
       "    <tr>\n",
       "      <th>8</th>\n",
       "      <td>Hudsons Coffee</td>\n",
       "      <td>Breakfast Spot</td>\n",
       "      <td>Melbourne Private Hospital, 1F, Royal Parade</td>\n",
       "      <td>AU</td>\n",
       "      <td>Parkville</td>\n",
       "      <td>Australia</td>\n",
       "      <td>NaN</td>\n",
       "      <td>612</td>\n",
       "      <td>[Melbourne Private Hospital, 1F, Royal Parade,...</td>\n",
       "      <td>[{'label': 'display', 'lat': -37.798314, 'lng'...</td>\n",
       "      <td>-37.798314</td>\n",
       "      <td>144.957228</td>\n",
       "      <td>NaN</td>\n",
       "      <td>3052</td>\n",
       "      <td>VIC</td>\n",
       "      <td>587fe0015da8f41df1af3389</td>\n",
       "    </tr>\n",
       "    <tr>\n",
       "      <th>9</th>\n",
       "      <td>Milky's Coffee Emporium</td>\n",
       "      <td>Coffee Shop</td>\n",
       "      <td>Pelham st</td>\n",
       "      <td>AU</td>\n",
       "      <td>Carlton</td>\n",
       "      <td>Australia</td>\n",
       "      <td>NaN</td>\n",
       "      <td>405</td>\n",
       "      <td>[Pelham st, Carlton VIC 3053, Australia]</td>\n",
       "      <td>[{'label': 'display', 'lat': -37.802922, 'lng'...</td>\n",
       "      <td>-37.802922</td>\n",
       "      <td>144.966976</td>\n",
       "      <td>NaN</td>\n",
       "      <td>3053</td>\n",
       "      <td>VIC</td>\n",
       "      <td>4c9afaa2d4b1b1f71703d535</td>\n",
       "    </tr>\n",
       "    <tr>\n",
       "      <th>10</th>\n",
       "      <td>Jasper Coffee</td>\n",
       "      <td>Coffee Shop</td>\n",
       "      <td>University of Melbourne</td>\n",
       "      <td>AU</td>\n",
       "      <td>Parkville</td>\n",
       "      <td>Australia</td>\n",
       "      <td>NaN</td>\n",
       "      <td>425</td>\n",
       "      <td>[University of Melbourne, Parkville VIC 3010, ...</td>\n",
       "      <td>[{'label': 'display', 'lat': -37.7970485371688...</td>\n",
       "      <td>-37.797049</td>\n",
       "      <td>144.961283</td>\n",
       "      <td>NaN</td>\n",
       "      <td>3010</td>\n",
       "      <td>VIC</td>\n",
       "      <td>4e658b67ae60e9edf712e5f7</td>\n",
       "    </tr>\n",
       "    <tr>\n",
       "      <th>11</th>\n",
       "      <td>Ultimate Coffee Bar</td>\n",
       "      <td>Café</td>\n",
       "      <td>189 Elgin St.</td>\n",
       "      <td>AU</td>\n",
       "      <td>Carlton</td>\n",
       "      <td>Australia</td>\n",
       "      <td>Lygon St.</td>\n",
       "      <td>514</td>\n",
       "      <td>[189 Elgin St. (Lygon St.), Carlton VIC 3053, ...</td>\n",
       "      <td>[{'label': 'display', 'lat': -37.79744, 'lng':...</td>\n",
       "      <td>-37.797440</td>\n",
       "      <td>144.968220</td>\n",
       "      <td>NaN</td>\n",
       "      <td>3053</td>\n",
       "      <td>VIC</td>\n",
       "      <td>4fe00762e4b0f90ab171d2c7</td>\n",
       "    </tr>\n",
       "    <tr>\n",
       "      <th>12</th>\n",
       "      <td>Book Coffee Print Work</td>\n",
       "      <td>Coffee Shop</td>\n",
       "      <td>255 Queensbury St</td>\n",
       "      <td>AU</td>\n",
       "      <td>Carlton</td>\n",
       "      <td>Australia</td>\n",
       "      <td>NaN</td>\n",
       "      <td>509</td>\n",
       "      <td>[255 Queensbury St, Carlton VIC 3053, Australia]</td>\n",
       "      <td>[{'label': 'display', 'lat': -37.804419, 'lng'...</td>\n",
       "      <td>-37.804419</td>\n",
       "      <td>144.961000</td>\n",
       "      <td>NaN</td>\n",
       "      <td>3053</td>\n",
       "      <td>VIC</td>\n",
       "      <td>5b31a6fe4420d8002cc0307c</td>\n",
       "    </tr>\n",
       "    <tr>\n",
       "      <th>13</th>\n",
       "      <td>Everyday Coffee</td>\n",
       "      <td>Coffee Shop</td>\n",
       "      <td>225 Queensberry Street</td>\n",
       "      <td>AU</td>\n",
       "      <td>Melbourne</td>\n",
       "      <td>Australia</td>\n",
       "      <td>NaN</td>\n",
       "      <td>512</td>\n",
       "      <td>[225 Queensberry Street, Melbourne VIC 3053, A...</td>\n",
       "      <td>[{'label': 'display', 'lat': -37.804522, 'lng'...</td>\n",
       "      <td>-37.804522</td>\n",
       "      <td>144.961170</td>\n",
       "      <td>NaN</td>\n",
       "      <td>3053</td>\n",
       "      <td>VIC</td>\n",
       "      <td>5b135c9d04d1ae002ccdecff</td>\n",
       "    </tr>\n",
       "    <tr>\n",
       "      <th>14</th>\n",
       "      <td>Market Lane Coffee</td>\n",
       "      <td>Coffee Shop</td>\n",
       "      <td>176 Faraday St</td>\n",
       "      <td>AU</td>\n",
       "      <td>Carlton</td>\n",
       "      <td>Australia</td>\n",
       "      <td>NaN</td>\n",
       "      <td>461</td>\n",
       "      <td>[176 Faraday St, Carlton VIC 3053, Australia]</td>\n",
       "      <td>[{'label': 'display', 'lat': -37.798637, 'lng'...</td>\n",
       "      <td>-37.798637</td>\n",
       "      <td>144.968460</td>\n",
       "      <td>Carlton</td>\n",
       "      <td>3053</td>\n",
       "      <td>VIC</td>\n",
       "      <td>50f6173be4b0cdce511debaa</td>\n",
       "    </tr>\n",
       "    <tr>\n",
       "      <th>15</th>\n",
       "      <td>Axil Coffee Roasters</td>\n",
       "      <td>Coffee Shop</td>\n",
       "      <td>University of Melbourne</td>\n",
       "      <td>AU</td>\n",
       "      <td>Parkville</td>\n",
       "      <td>Australia</td>\n",
       "      <td>NaN</td>\n",
       "      <td>645</td>\n",
       "      <td>[University of Melbourne, Parkville VIC 3052, ...</td>\n",
       "      <td>[{'label': 'display', 'lat': -37.796127, 'lng'...</td>\n",
       "      <td>-37.796127</td>\n",
       "      <td>144.958680</td>\n",
       "      <td>NaN</td>\n",
       "      <td>3052</td>\n",
       "      <td>VIC</td>\n",
       "      <td>5cd4fc1a95d986003997befe</td>\n",
       "    </tr>\n",
       "    <tr>\n",
       "      <th>16</th>\n",
       "      <td>The Vertue of the Coffee Drink</td>\n",
       "      <td>Coffee Shop</td>\n",
       "      <td>8 Raffa Place Carlton</td>\n",
       "      <td>AU</td>\n",
       "      <td>Melbourne</td>\n",
       "      <td>Australia</td>\n",
       "      <td>Cochrane Pl</td>\n",
       "      <td>510</td>\n",
       "      <td>[8 Raffa Place Carlton (Cochrane Pl), Melbourn...</td>\n",
       "      <td>[{'label': 'display', 'lat': -37.7976482584071...</td>\n",
       "      <td>-37.797648</td>\n",
       "      <td>144.968365</td>\n",
       "      <td>NaN</td>\n",
       "      <td>3053</td>\n",
       "      <td>VIC</td>\n",
       "      <td>54dc008d498e2dfd2baecf7c</td>\n",
       "    </tr>\n",
       "    <tr>\n",
       "      <th>17</th>\n",
       "      <td>Lygon Street Cafe</td>\n",
       "      <td>Café</td>\n",
       "      <td>275 Lygon St.</td>\n",
       "      <td>AU</td>\n",
       "      <td>Carlton</td>\n",
       "      <td>Australia</td>\n",
       "      <td>NaN</td>\n",
       "      <td>346</td>\n",
       "      <td>[275 Lygon St., Carlton VIC 3053, Australia]</td>\n",
       "      <td>[{'label': 'display', 'lat': -37.7990850289457...</td>\n",
       "      <td>-37.799085</td>\n",
       "      <td>144.967276</td>\n",
       "      <td>NaN</td>\n",
       "      <td>3053</td>\n",
       "      <td>VIC</td>\n",
       "      <td>4c2182af13c00f47e52986de</td>\n",
       "    </tr>\n",
       "    <tr>\n",
       "      <th>18</th>\n",
       "      <td>Seven Seeds</td>\n",
       "      <td>Café</td>\n",
       "      <td>114 Berkeley St.</td>\n",
       "      <td>AU</td>\n",
       "      <td>Carlton</td>\n",
       "      <td>Australia</td>\n",
       "      <td>alt entrance on Barry St.</td>\n",
       "      <td>488</td>\n",
       "      <td>[114 Berkeley St. (alt entrance on Barry St.),...</td>\n",
       "      <td>[{'label': 'display', 'lat': -37.80287, 'lng':...</td>\n",
       "      <td>-37.802870</td>\n",
       "      <td>144.959120</td>\n",
       "      <td>Carlton</td>\n",
       "      <td>3053</td>\n",
       "      <td>VIC</td>\n",
       "      <td>4b072db1f964a520eef822e3</td>\n",
       "    </tr>\n",
       "  </tbody>\n",
       "</table>\n",
       "</div>"
      ],
      "text/plain": [
       "                                        name      categories  \\\n",
       "0                      Assembly Coffee & Tea     Coffee Shop   \n",
       "1   Romano's Coffee ERC Melbourne University            Café   \n",
       "2                               Coffee & Tea            Café   \n",
       "3                           Midsquare Coffee            Café   \n",
       "4                      Grinders Coffee House     Coffee Shop   \n",
       "5                                Just Coffee            Café   \n",
       "6                      Wild Timor Coffee Co.            Café   \n",
       "7                             Lavazza Coffee     Coffee Shop   \n",
       "8                             Hudsons Coffee  Breakfast Spot   \n",
       "9                    Milky's Coffee Emporium     Coffee Shop   \n",
       "10                             Jasper Coffee     Coffee Shop   \n",
       "11                       Ultimate Coffee Bar            Café   \n",
       "12                    Book Coffee Print Work     Coffee Shop   \n",
       "13                           Everyday Coffee     Coffee Shop   \n",
       "14                        Market Lane Coffee     Coffee Shop   \n",
       "15                      Axil Coffee Roasters     Coffee Shop   \n",
       "16            The Vertue of the Coffee Drink     Coffee Shop   \n",
       "17                         Lygon Street Cafe            Café   \n",
       "18                               Seven Seeds            Café   \n",
       "\n",
       "                                         address  cc       city    country  \\\n",
       "0                                   60 Pelham St  AU    Carlton  Australia   \n",
       "1                                 Grattan Street  AU    Carlton  Australia   \n",
       "2                                            NaN  AU        NaN  Australia   \n",
       "3                              119 Pelham Street  AU  Melbourne  Australia   \n",
       "4                                   277 Lygon St  AU  Melbourne  Australia   \n",
       "5                                            NaN  AU        NaN  Australia   \n",
       "6                                            NaN  AU        NaN  Australia   \n",
       "7                                 224 Faraday St  AU    Carlton  Australia   \n",
       "8   Melbourne Private Hospital, 1F, Royal Parade  AU  Parkville  Australia   \n",
       "9                                      Pelham st  AU    Carlton  Australia   \n",
       "10                       University of Melbourne  AU  Parkville  Australia   \n",
       "11                                 189 Elgin St.  AU    Carlton  Australia   \n",
       "12                             255 Queensbury St  AU    Carlton  Australia   \n",
       "13                        225 Queensberry Street  AU  Melbourne  Australia   \n",
       "14                                176 Faraday St  AU    Carlton  Australia   \n",
       "15                       University of Melbourne  AU  Parkville  Australia   \n",
       "16                         8 Raffa Place Carlton  AU  Melbourne  Australia   \n",
       "17                                 275 Lygon St.  AU    Carlton  Australia   \n",
       "18                              114 Berkeley St.  AU    Carlton  Australia   \n",
       "\n",
       "                  crossStreet  distance  \\\n",
       "0                    Lygon St       413   \n",
       "1             Swanston Street       133   \n",
       "2                         NaN       433   \n",
       "3                         NaN       242   \n",
       "4                         NaN       318   \n",
       "5                         NaN       386   \n",
       "6                         NaN       251   \n",
       "7                         NaN       356   \n",
       "8                         NaN       612   \n",
       "9                         NaN       405   \n",
       "10                        NaN       425   \n",
       "11                  Lygon St.       514   \n",
       "12                        NaN       509   \n",
       "13                        NaN       512   \n",
       "14                        NaN       461   \n",
       "15                        NaN       645   \n",
       "16                Cochrane Pl       510   \n",
       "17                        NaN       346   \n",
       "18  alt entrance on Barry St.       488   \n",
       "\n",
       "                                     formattedAddress  \\\n",
       "0   [60 Pelham St (Lygon St), Carlton VIC 3053, Au...   \n",
       "1   [Grattan Street (Swanston Street), Carlton VIC...   \n",
       "2                                         [Australia]   \n",
       "3   [119 Pelham Street, Melbourne VIC 3053, Austra...   \n",
       "4       [277 Lygon St, Melbourne VIC 3053, Australia]   \n",
       "5                                         [Australia]   \n",
       "6                                         [Australia]   \n",
       "7       [224 Faraday St, Carlton VIC 3053, Australia]   \n",
       "8   [Melbourne Private Hospital, 1F, Royal Parade,...   \n",
       "9            [Pelham st, Carlton VIC 3053, Australia]   \n",
       "10  [University of Melbourne, Parkville VIC 3010, ...   \n",
       "11  [189 Elgin St. (Lygon St.), Carlton VIC 3053, ...   \n",
       "12   [255 Queensbury St, Carlton VIC 3053, Australia]   \n",
       "13  [225 Queensberry Street, Melbourne VIC 3053, A...   \n",
       "14      [176 Faraday St, Carlton VIC 3053, Australia]   \n",
       "15  [University of Melbourne, Parkville VIC 3052, ...   \n",
       "16  [8 Raffa Place Carlton (Cochrane Pl), Melbourn...   \n",
       "17       [275 Lygon St., Carlton VIC 3053, Australia]   \n",
       "18  [114 Berkeley St. (alt entrance on Barry St.),...   \n",
       "\n",
       "                                       labeledLatLngs        lat         lng  \\\n",
       "0   [{'label': 'display', 'lat': -37.80275, 'lng':... -37.802750  144.967290   \n",
       "1   [{'label': 'display', 'lat': -37.7992180504948... -37.799218  144.963266   \n",
       "2   [{'label': 'display', 'lat': -37.803029, 'lng'... -37.803029  144.967283   \n",
       "3   [{'label': 'display', 'lat': -37.8025085082111... -37.802509  144.964190   \n",
       "4   [{'label': 'display', 'lat': -37.79901, 'lng':... -37.799010  144.966880   \n",
       "5   [{'label': 'display', 'lat': -37.802741, 'lng'... -37.802741  144.960487   \n",
       "6   [{'label': 'display', 'lat': -37.7986573179409... -37.798657  144.965562   \n",
       "7   [{'label': 'display', 'lat': -37.798403, 'lng'... -37.798403  144.966889   \n",
       "8   [{'label': 'display', 'lat': -37.798314, 'lng'... -37.798314  144.957228   \n",
       "9   [{'label': 'display', 'lat': -37.802922, 'lng'... -37.802922  144.966976   \n",
       "10  [{'label': 'display', 'lat': -37.7970485371688... -37.797049  144.961283   \n",
       "11  [{'label': 'display', 'lat': -37.79744, 'lng':... -37.797440  144.968220   \n",
       "12  [{'label': 'display', 'lat': -37.804419, 'lng'... -37.804419  144.961000   \n",
       "13  [{'label': 'display', 'lat': -37.804522, 'lng'... -37.804522  144.961170   \n",
       "14  [{'label': 'display', 'lat': -37.798637, 'lng'... -37.798637  144.968460   \n",
       "15  [{'label': 'display', 'lat': -37.796127, 'lng'... -37.796127  144.958680   \n",
       "16  [{'label': 'display', 'lat': -37.7976482584071... -37.797648  144.968365   \n",
       "17  [{'label': 'display', 'lat': -37.7990850289457... -37.799085  144.967276   \n",
       "18  [{'label': 'display', 'lat': -37.80287, 'lng':... -37.802870  144.959120   \n",
       "\n",
       "   neighborhood postalCode state                        id  \n",
       "0       Carlton       3053   VIC  519c3597e4b0b7830c2d3d16  \n",
       "1           NaN       3000   VIC  4c906879352da1cd628411b2  \n",
       "2           NaN        NaN   NaN  51a189bd498e91a14c54e765  \n",
       "3           NaN       3053   VIC  5679eafc498ea45d268af319  \n",
       "4           NaN       3053   VIC  4b058746f964a5204b8822e3  \n",
       "5           NaN        NaN   NaN  56b90ddf498e9132fcce8837  \n",
       "6           NaN        NaN   NaN  559daadd498e846b3fedaa40  \n",
       "7           NaN       3053   VIC  4b541729f964a520f0b127e3  \n",
       "8           NaN       3052   VIC  587fe0015da8f41df1af3389  \n",
       "9           NaN       3053   VIC  4c9afaa2d4b1b1f71703d535  \n",
       "10          NaN       3010   VIC  4e658b67ae60e9edf712e5f7  \n",
       "11          NaN       3053   VIC  4fe00762e4b0f90ab171d2c7  \n",
       "12          NaN       3053   VIC  5b31a6fe4420d8002cc0307c  \n",
       "13          NaN       3053   VIC  5b135c9d04d1ae002ccdecff  \n",
       "14      Carlton       3053   VIC  50f6173be4b0cdce511debaa  \n",
       "15          NaN       3052   VIC  5cd4fc1a95d986003997befe  \n",
       "16          NaN       3053   VIC  54dc008d498e2dfd2baecf7c  \n",
       "17          NaN       3053   VIC  4c2182af13c00f47e52986de  \n",
       "18      Carlton       3053   VIC  4b072db1f964a520eef822e3  "
      ]
     },
     "execution_count": 9,
     "metadata": {},
     "output_type": "execute_result"
    }
   ],
   "source": [
    "# keep only columns that include venue name, and anything that is associated with location\n",
    "filtered_columns = ['name', 'categories'] + [col for col in dataframe.columns if col.startswith('location.')] + ['id']\n",
    "dataframe_filtered = dataframe.loc[:, filtered_columns]\n",
    "\n",
    "# function that extracts the category of the venue\n",
    "def get_category_type(row):\n",
    "    try:\n",
    "        categories_list = row['categories']\n",
    "    except:\n",
    "        categories_list = row['venue.categories']\n",
    "        \n",
    "    if len(categories_list) == 0:\n",
    "        return None\n",
    "    else:\n",
    "        return categories_list[0]['name']\n",
    "\n",
    "# filter the category for each row\n",
    "dataframe_filtered['categories'] = dataframe_filtered.apply(get_category_type, axis=1)\n",
    "\n",
    "# clean column names by keeping only last term\n",
    "dataframe_filtered.columns = [column.split('.')[-1] for column in dataframe_filtered.columns]\n",
    "\n",
    "dataframe_filtered"
   ]
  },
  {
   "cell_type": "code",
   "execution_count": 21,
   "metadata": {},
   "outputs": [
    {
     "data": {
      "text/html": [
       "<div>\n",
       "<style scoped>\n",
       "    .dataframe tbody tr th:only-of-type {\n",
       "        vertical-align: middle;\n",
       "    }\n",
       "\n",
       "    .dataframe tbody tr th {\n",
       "        vertical-align: top;\n",
       "    }\n",
       "\n",
       "    .dataframe thead th {\n",
       "        text-align: right;\n",
       "    }\n",
       "</style>\n",
       "<table border=\"1\" class=\"dataframe\">\n",
       "  <thead>\n",
       "    <tr style=\"text-align: right;\">\n",
       "      <th></th>\n",
       "      <th>name</th>\n",
       "      <th>categories</th>\n",
       "      <th>address</th>\n",
       "      <th>cc</th>\n",
       "      <th>city</th>\n",
       "      <th>country</th>\n",
       "      <th>crossStreet</th>\n",
       "      <th>distance</th>\n",
       "      <th>formattedAddress</th>\n",
       "      <th>labeledLatLngs</th>\n",
       "      <th>lat</th>\n",
       "      <th>lng</th>\n",
       "      <th>neighborhood</th>\n",
       "      <th>postalCode</th>\n",
       "      <th>state</th>\n",
       "      <th>id</th>\n",
       "    </tr>\n",
       "  </thead>\n",
       "  <tbody>\n",
       "    <tr>\n",
       "      <th>0</th>\n",
       "      <td>Assembly Coffee &amp; Tea</td>\n",
       "      <td>Coffee Shop</td>\n",
       "      <td>60 Pelham St</td>\n",
       "      <td>AU</td>\n",
       "      <td>Carlton</td>\n",
       "      <td>Australia</td>\n",
       "      <td>Lygon St</td>\n",
       "      <td>413</td>\n",
       "      <td>[60 Pelham St (Lygon St), Carlton VIC 3053, Au...</td>\n",
       "      <td>[{'label': 'display', 'lat': -37.80275, 'lng':...</td>\n",
       "      <td>-37.802750</td>\n",
       "      <td>144.96729</td>\n",
       "      <td>Carlton</td>\n",
       "      <td>3053</td>\n",
       "      <td>VIC</td>\n",
       "      <td>519c3597e4b0b7830c2d3d16</td>\n",
       "    </tr>\n",
       "    <tr>\n",
       "      <th>14</th>\n",
       "      <td>Market Lane Coffee</td>\n",
       "      <td>Coffee Shop</td>\n",
       "      <td>176 Faraday St</td>\n",
       "      <td>AU</td>\n",
       "      <td>Carlton</td>\n",
       "      <td>Australia</td>\n",
       "      <td>NaN</td>\n",
       "      <td>461</td>\n",
       "      <td>[176 Faraday St, Carlton VIC 3053, Australia]</td>\n",
       "      <td>[{'label': 'display', 'lat': -37.798637, 'lng'...</td>\n",
       "      <td>-37.798637</td>\n",
       "      <td>144.96846</td>\n",
       "      <td>Carlton</td>\n",
       "      <td>3053</td>\n",
       "      <td>VIC</td>\n",
       "      <td>50f6173be4b0cdce511debaa</td>\n",
       "    </tr>\n",
       "    <tr>\n",
       "      <th>18</th>\n",
       "      <td>Seven Seeds</td>\n",
       "      <td>Café</td>\n",
       "      <td>114 Berkeley St.</td>\n",
       "      <td>AU</td>\n",
       "      <td>Carlton</td>\n",
       "      <td>Australia</td>\n",
       "      <td>alt entrance on Barry St.</td>\n",
       "      <td>488</td>\n",
       "      <td>[114 Berkeley St. (alt entrance on Barry St.),...</td>\n",
       "      <td>[{'label': 'display', 'lat': -37.80287, 'lng':...</td>\n",
       "      <td>-37.802870</td>\n",
       "      <td>144.95912</td>\n",
       "      <td>Carlton</td>\n",
       "      <td>3053</td>\n",
       "      <td>VIC</td>\n",
       "      <td>4b072db1f964a520eef822e3</td>\n",
       "    </tr>\n",
       "  </tbody>\n",
       "</table>\n",
       "</div>"
      ],
      "text/plain": [
       "                     name   categories           address  cc     city  \\\n",
       "0   Assembly Coffee & Tea  Coffee Shop      60 Pelham St  AU  Carlton   \n",
       "14     Market Lane Coffee  Coffee Shop    176 Faraday St  AU  Carlton   \n",
       "18            Seven Seeds         Café  114 Berkeley St.  AU  Carlton   \n",
       "\n",
       "      country                crossStreet  distance  \\\n",
       "0   Australia                   Lygon St       413   \n",
       "14  Australia                        NaN       461   \n",
       "18  Australia  alt entrance on Barry St.       488   \n",
       "\n",
       "                                     formattedAddress  \\\n",
       "0   [60 Pelham St (Lygon St), Carlton VIC 3053, Au...   \n",
       "14      [176 Faraday St, Carlton VIC 3053, Australia]   \n",
       "18  [114 Berkeley St. (alt entrance on Barry St.),...   \n",
       "\n",
       "                                       labeledLatLngs        lat        lng  \\\n",
       "0   [{'label': 'display', 'lat': -37.80275, 'lng':... -37.802750  144.96729   \n",
       "14  [{'label': 'display', 'lat': -37.798637, 'lng'... -37.798637  144.96846   \n",
       "18  [{'label': 'display', 'lat': -37.80287, 'lng':... -37.802870  144.95912   \n",
       "\n",
       "   neighborhood postalCode state                        id  \n",
       "0       Carlton       3053   VIC  519c3597e4b0b7830c2d3d16  \n",
       "14      Carlton       3053   VIC  50f6173be4b0cdce511debaa  \n",
       "18      Carlton       3053   VIC  4b072db1f964a520eef822e3  "
      ]
     },
     "execution_count": 21,
     "metadata": {},
     "output_type": "execute_result"
    }
   ],
   "source": [
    "dataframe_filtered=dataframe_filtered[dataframe_filtered.neighborhood=='Carlton']\n",
    "dataframe_filtered"
   ]
  },
  {
   "cell_type": "markdown",
   "metadata": {
    "button": false,
    "new_sheet": false,
    "run_control": {
     "read_only": false
    }
   },
   "source": [
    "####  visualize the Coffee Shop around Melbourne Uni"
   ]
  },
  {
   "cell_type": "code",
   "execution_count": 22,
   "metadata": {
    "button": false,
    "jupyter": {
     "outputs_hidden": false
    },
    "new_sheet": false,
    "run_control": {
     "read_only": false
    }
   },
   "outputs": [
    {
     "data": {
      "text/plain": [
       "0     Assembly Coffee & Tea\n",
       "14       Market Lane Coffee\n",
       "18              Seven Seeds\n",
       "Name: name, dtype: object"
      ]
     },
     "execution_count": 22,
     "metadata": {},
     "output_type": "execute_result"
    }
   ],
   "source": [
    "dataframe_filtered.name"
   ]
  },
  {
   "cell_type": "code",
   "execution_count": 23,
   "metadata": {
    "button": false,
    "jupyter": {
     "outputs_hidden": false
    },
    "new_sheet": false,
    "run_control": {
     "read_only": false
    }
   },
   "outputs": [
    {
     "data": {
      "text/html": [
       "<div style=\"width:100%;\"><div style=\"position:relative;width:100%;height:0;padding-bottom:60%;\"><span style=\"color:#565656\">Make this Notebook Trusted to load map: File -> Trust Notebook</span><iframe src=\"about:blank\" style=\"position:absolute;width:100%;height:100%;left:0;top:0;border:none !important;\" data-html=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 onload=\"this.contentDocument.open();this.contentDocument.write(atob(this.getAttribute('data-html')));this.contentDocument.close();\" allowfullscreen webkitallowfullscreen mozallowfullscreen></iframe></div></div>"
      ],
      "text/plain": [
       "<folium.folium.Map at 0x185c1f057f0>"
      ]
     },
     "execution_count": 23,
     "metadata": {},
     "output_type": "execute_result"
    }
   ],
   "source": [
    "venues_map = folium.Map(location=[latitude, longitude], zoom_start=13) # generate map centred around the Conrad Hotel\n",
    "\n",
    "# add a red circle marker to represent the Melbourne University\n",
    "folium.features.CircleMarker(\n",
    "    [latitude, longitude],\n",
    "    radius=10,\n",
    "    color='red',\n",
    "    popup='Conrad Hotel',\n",
    "    fill = True,\n",
    "    fill_color = 'red',\n",
    "    fill_opacity = 0.6\n",
    ").add_to(venues_map)\n",
    "\n",
    "# add the coffee shop as blue circle markers\n",
    "for lat, lng, label in zip(dataframe_filtered.lat, dataframe_filtered.lng, dataframe_filtered.categories):\n",
    "    folium.features.CircleMarker(\n",
    "        [lat, lng],\n",
    "        radius=5,\n",
    "        color='blue',\n",
    "        popup=label,\n",
    "        fill = True,\n",
    "        fill_color='blue',\n",
    "        fill_opacity=0.6\n",
    "    ).add_to(venues_map)\n",
    "\n",
    "# display map\n",
    "venues_map"
   ]
  },
  {
   "cell_type": "markdown",
   "metadata": {
    "button": false,
    "new_sheet": false,
    "run_control": {
     "read_only": false
    }
   },
   "source": [
    "<a id=\"item2\"></a>"
   ]
  },
  {
   "cell_type": "markdown",
   "metadata": {},
   "source": [
    "----"
   ]
  },
  {
   "cell_type": "markdown",
   "metadata": {
    "button": false,
    "new_sheet": false,
    "run_control": {
     "read_only": false
    }
   },
   "source": [
    "### 3. Coffee Shop Analysis"
   ]
  },
  {
   "cell_type": "markdown",
   "metadata": {
    "button": false,
    "new_sheet": false,
    "run_control": {
     "read_only": false
    }
   },
   "source": [
    "#### first try the most famous coffee shop -- Seven Seeds"
   ]
  },
  {
   "cell_type": "code",
   "execution_count": 36,
   "metadata": {
    "button": false,
    "jupyter": {
     "outputs_hidden": false
    },
    "new_sheet": false,
    "run_control": {
     "read_only": false
    }
   },
   "outputs": [
    {
     "data": {
      "text/plain": [
       "'https://api.foursquare.com/v2/venues/4b072db1f964a520eef822e3?client_id=1ZG0G32EIDRSNCOXMYP2VSLBEDYDV0ZX4BXQHPITVDZBIH2O&client_secret=S0DTV2TOIEX2YZQTTI2NAVZF2OKTWC3FPHAHIPNMRPEHOZLX&v=20180604'"
      ]
     },
     "execution_count": 36,
     "metadata": {},
     "output_type": "execute_result"
    }
   ],
   "source": [
    "venue_id1 = '4b072db1f964a520eef822e3' # ID of Seven Seeds\n",
    "url1 = 'https://api.foursquare.com/v2/venues/{}?client_id={}&client_secret={}&v={}'.format(venue_id, CLIENT_ID, CLIENT_SECRET, VERSION)\n",
    "url1"
   ]
  },
  {
   "cell_type": "markdown",
   "metadata": {
    "button": false,
    "new_sheet": false,
    "run_control": {
     "read_only": false
    }
   },
   "source": [
    "#### Send GET request for result"
   ]
  },
  {
   "cell_type": "code",
   "execution_count": 37,
   "metadata": {
    "button": false,
    "jupyter": {
     "outputs_hidden": false
    },
    "new_sheet": false,
    "run_control": {
     "read_only": false
    }
   },
   "outputs": [
    {
     "name": "stdout",
     "output_type": "stream",
     "text": [
      "dict_keys(['id', 'name', 'contact', 'location', 'canonicalUrl', 'categories', 'verified', 'stats', 'url', 'price', 'hasMenu', 'likes', 'dislike', 'ok', 'rating', 'ratingColor', 'ratingSignals', 'menu', 'allowMenuUrlEdit', 'beenHere', 'specials', 'photos', 'reasons', 'description', 'hereNow', 'createdAt', 'tips', 'shortUrl', 'timeZone', 'listed', 'hours', 'popular', 'seasonalHours', 'defaultHours', 'pageUpdates', 'inbox', 'attributes', 'bestPhoto'])\n"
     ]
    },
    {
     "data": {
      "text/plain": [
       "{'id': '4b072db1f964a520eef822e3',\n",
       " 'name': 'Seven Seeds',\n",
       " 'contact': {'phone': '+61393478664',\n",
       "  'formattedPhone': '+61 3 9347 8664',\n",
       "  'twitter': '7seedscoffee',\n",
       "  'instagram': '7seedscoffee',\n",
       "  'facebook': '109147009126566',\n",
       "  'facebookUsername': 'SevenSeedsSpecialtyCoffee',\n",
       "  'facebookName': 'Seven Seeds Specialty Coffee'},\n",
       " 'location': {'address': '114 Berkeley St.',\n",
       "  'crossStreet': 'alt entrance on Barry St.',\n",
       "  'lat': -37.80287,\n",
       "  'lng': 144.95912,\n",
       "  'labeledLatLngs': [{'label': 'display', 'lat': -37.80287, 'lng': 144.95912}],\n",
       "  'postalCode': '3053',\n",
       "  'cc': 'AU',\n",
       "  'neighborhood': 'Carlton',\n",
       "  'city': 'Carlton',\n",
       "  'state': 'VIC',\n",
       "  'country': 'Australia',\n",
       "  'formattedAddress': ['114 Berkeley St. (alt entrance on Barry St.)',\n",
       "   'Carlton VIC 3053',\n",
       "   'Australia']},\n",
       " 'canonicalUrl': 'https://foursquare.com/v/seven-seeds/4b072db1f964a520eef822e3',\n",
       " 'categories': [{'id': '4bf58dd8d48988d16d941735',\n",
       "   'name': 'Café',\n",
       "   'pluralName': 'Cafés',\n",
       "   'shortName': 'Café',\n",
       "   'icon': {'prefix': 'https://ss3.4sqi.net/img/categories_v2/food/cafe_',\n",
       "    'suffix': '.png'},\n",
       "   'primary': True},\n",
       "  {'id': '4bf58dd8d48988d1e0931735',\n",
       "   'name': 'Coffee Shop',\n",
       "   'pluralName': 'Coffee Shops',\n",
       "   'shortName': 'Coffee Shop',\n",
       "   'icon': {'prefix': 'https://ss3.4sqi.net/img/categories_v2/food/coffeeshop_',\n",
       "    'suffix': '.png'}},\n",
       "  {'id': '4bf58dd8d48988d143941735',\n",
       "   'name': 'Breakfast Spot',\n",
       "   'pluralName': 'Breakfast Spots',\n",
       "   'shortName': 'Breakfast',\n",
       "   'icon': {'prefix': 'https://ss3.4sqi.net/img/categories_v2/food/breakfast_',\n",
       "    'suffix': '.png'}}],\n",
       " 'verified': False,\n",
       " 'stats': {'tipCount': 184},\n",
       " 'url': 'http://sevenseeds.com.au',\n",
       " 'price': {'tier': 2, 'message': 'Moderate', 'currency': '$'},\n",
       " 'hasMenu': True,\n",
       " 'likes': {'count': 431,\n",
       "  'groups': [{'type': 'others', 'count': 431, 'items': []}],\n",
       "  'summary': '431 Likes'},\n",
       " 'dislike': False,\n",
       " 'ok': False,\n",
       " 'rating': 8.7,\n",
       " 'ratingColor': '73CF42',\n",
       " 'ratingSignals': 598,\n",
       " 'menu': {'type': 'Menu',\n",
       "  'label': 'Menu',\n",
       "  'anchor': 'View Menu',\n",
       "  'url': 'https://foursquare.com/v/seven-seeds/4b072db1f964a520eef822e3/menu',\n",
       "  'mobileUrl': 'https://foursquare.com/v/4b072db1f964a520eef822e3/device_menu'},\n",
       " 'allowMenuUrlEdit': True,\n",
       " 'beenHere': {'count': 0,\n",
       "  'unconfirmedCount': 0,\n",
       "  'marked': False,\n",
       "  'lastCheckinExpiredAt': 0},\n",
       " 'specials': {'count': 0, 'items': []},\n",
       " 'photos': {'count': 775,\n",
       "  'groups': [{'type': 'venue',\n",
       "    'name': 'Venue photos',\n",
       "    'count': 775,\n",
       "    'items': [{'id': '500b4dace4b03215e6621b18',\n",
       "      'createdAt': 1342918060,\n",
       "      'source': {'name': 'Foursquare for iOS',\n",
       "       'url': 'https://foursquare.com/download/#/iphone'},\n",
       "      'prefix': 'https://fastly.4sqi.net/img/general/',\n",
       "      'suffix': '/wks1d2D7vaMvNxMh74yMNmB-oOq-le-Ye07YJl0jvWw.jpg',\n",
       "      'width': 540,\n",
       "      'height': 720,\n",
       "      'user': {'id': '2915095',\n",
       "       'firstName': 'Diane',\n",
       "       'lastName': 'C',\n",
       "       'photo': {'prefix': 'https://fastly.4sqi.net/img/user/',\n",
       "        'suffix': '/EQULUQLEVVLVIIIP.jpg'}},\n",
       "      'visibility': 'public'}]}]},\n",
       " 'reasons': {'count': 1,\n",
       "  'items': [{'summary': 'Lots of people like this place',\n",
       "    'type': 'general',\n",
       "    'reasonName': 'rawLikesReason'}]},\n",
       " 'description': 'Seven Seeds is located at 114 Berkeley St, Carlton, just outside the CBD, close to both Queen Victoria Market and Melbourne University.',\n",
       " 'hereNow': {'count': 0, 'summary': 'Nobody here', 'groups': []},\n",
       " 'createdAt': 1258761649,\n",
       " 'tips': {'count': 184,\n",
       "  'groups': [{'type': 'others',\n",
       "    'name': 'All tips',\n",
       "    'count': 184,\n",
       "    'items': [{'id': '4cba5b51a33bb1f76f1d8efd',\n",
       "      'createdAt': 1287281489,\n",
       "      'text': \"You're probably not indie enough for this place, but that won't stop you loving it.\",\n",
       "      'type': 'user',\n",
       "      'canonicalUrl': 'https://foursquare.com/item/4cba5b51a33bb1f76f1d8efd',\n",
       "      'lang': 'en',\n",
       "      'likes': {'count': 6,\n",
       "       'groups': [{'type': 'others',\n",
       "         'count': 6,\n",
       "         'items': [{'id': '106036',\n",
       "           'firstName': 'Paul',\n",
       "           'lastName': 'F',\n",
       "           'photo': {'prefix': 'https://fastly.4sqi.net/img/user/',\n",
       "            'suffix': '/XZQO23B1GQJDBGC3.jpg'}},\n",
       "          {'id': '20237289',\n",
       "           'firstName': 'Jeannie',\n",
       "           'lastName': 'K',\n",
       "           'photo': {'prefix': 'https://fastly.4sqi.net/img/user/',\n",
       "            'suffix': '/20237289-XWUZGQ4LKWRUHGXA.jpg'}},\n",
       "          {'id': '42636628',\n",
       "           'firstName': 'Panwarat',\n",
       "           'lastName': 'M',\n",
       "           'photo': {'prefix': 'https://fastly.4sqi.net/img/user/',\n",
       "            'suffix': '/42636628-VCW3DI3HKGH2F32M.jpg'}},\n",
       "          {'id': '3407730',\n",
       "           'firstName': 'Mattsan',\n",
       "           'lastName': '#',\n",
       "           'photo': {'prefix': 'https://fastly.4sqi.net/img/user/',\n",
       "            'suffix': '/2PALUVHBW0FAJYCO.jpg'}}]}],\n",
       "       'summary': '6 likes'},\n",
       "      'logView': True,\n",
       "      'agreeCount': 6,\n",
       "      'disagreeCount': 0,\n",
       "      'todo': {'count': 1},\n",
       "      'user': {'id': '3829213',\n",
       "       'firstName': 'James',\n",
       "       'photo': {'prefix': 'https://fastly.4sqi.net/img/user/',\n",
       "        'suffix': '/3829213-VC5TIID4H3PEF2DQ.jpg'}}}]}]},\n",
       " 'shortUrl': 'http://4sq.com/7CiAqD',\n",
       " 'timeZone': 'Australia/Melbourne',\n",
       " 'listed': {'count': 667,\n",
       "  'groups': [{'type': 'others',\n",
       "    'name': 'Lists from other people',\n",
       "    'count': 667,\n",
       "    'items': [{'id': '4e4b247d8877da639661dc55',\n",
       "      'name': 'Melbourne to do list',\n",
       "      'description': '',\n",
       "      'type': 'others',\n",
       "      'user': {'id': '5787805',\n",
       "       'firstName': 'Julie',\n",
       "       'lastName': 'M',\n",
       "       'photo': {'prefix': 'https://fastly.4sqi.net/img/user/',\n",
       "        'suffix': '/ZT1LXRX2JDNZ5CUV.jpg'}},\n",
       "      'editable': False,\n",
       "      'public': True,\n",
       "      'collaborative': True,\n",
       "      'url': '/mocksiej/list/melbourne-to-do-list',\n",
       "      'canonicalUrl': 'https://foursquare.com/mocksiej/list/melbourne-to-do-list',\n",
       "      'createdAt': 1313547389,\n",
       "      'updatedAt': 1502420616,\n",
       "      'photo': {'id': '4e32256a62e12985fd5f6e51',\n",
       "       'createdAt': 1311909226,\n",
       "       'prefix': 'https://fastly.4sqi.net/img/general/',\n",
       "       'suffix': '/05JXIT3VCZX3INYZUDIGQYV20IQKKKKFFTLQBJ3KESTF3VPV.jpg',\n",
       "       'width': 537,\n",
       "       'height': 720,\n",
       "       'user': {'id': '150355',\n",
       "        'firstName': 'Kelly',\n",
       "        'lastName': 'S',\n",
       "        'photo': {'prefix': 'https://fastly.4sqi.net/img/user/',\n",
       "         'suffix': '/TYTNOFSA5OVRYL1S.jpg'}},\n",
       "       'visibility': 'public'},\n",
       "      'followers': {'count': 206},\n",
       "      'listItems': {'count': 195,\n",
       "       'items': [{'id': 't4d95474c7cfc1456a5af24f6',\n",
       "         'user': {'id': '5687361',\n",
       "          'firstName': 'Elif',\n",
       "          'lastName': 'D',\n",
       "          'photo': {'prefix': 'https://fastly.4sqi.net/img/user/',\n",
       "           'suffix': '/HF252VQTN0DEASJV.jpg'},\n",
       "          'tips': {'count': 143},\n",
       "          'lists': {'groups': [{'type': 'created', 'count': 9, 'items': []}]},\n",
       "          'bio': '',\n",
       "          'superuser': 2},\n",
       "         'createdAt': 1313547389,\n",
       "         'photo': {'id': '4d795a1f878da340ea7dcc0f',\n",
       "          'createdAt': 1299798559,\n",
       "          'prefix': 'https://fastly.4sqi.net/img/general/',\n",
       "          'suffix': '/RZOFK2MIXK3EOEDPIC0XEBQE5ZFOH0S31OSLBJMI3HFX0BSG.jpg',\n",
       "          'width': 540,\n",
       "          'height': 540,\n",
       "          'user': {'id': '386171',\n",
       "           'firstName': 'Andrew',\n",
       "           'lastName': 'B',\n",
       "           'photo': {'prefix': 'https://fastly.4sqi.net/img/user/',\n",
       "            'suffix': '/3D1JAIYEUFHGZVSI.png'}},\n",
       "          'visibility': 'public'}}]}},\n",
       "     {'id': '4e4994bb2271ac3f6bca9080',\n",
       "      'name': 'Seriously Awesome Coffee in Melbourne',\n",
       "      'description': 'Only the best cafes in Melbourne make the list. Satisfaction Guaranteed.',\n",
       "      'type': 'others',\n",
       "      'user': {'id': '898388',\n",
       "       'firstName': 'Chris',\n",
       "       'lastName': 'L',\n",
       "       'photo': {'prefix': 'https://fastly.4sqi.net/img/user/',\n",
       "        'suffix': '/L3FULBTXCIN5SJCQ.jpg'}},\n",
       "      'editable': False,\n",
       "      'public': True,\n",
       "      'collaborative': False,\n",
       "      'url': '/user/898388/list/seriously-awesome-coffee-in-melbourne',\n",
       "      'canonicalUrl': 'https://foursquare.com/user/898388/list/seriously-awesome-coffee-in-melbourne',\n",
       "      'createdAt': 1313445051,\n",
       "      'updatedAt': 1588224544,\n",
       "      'photo': {'id': '4d3de6ef92e5a34048081b8d',\n",
       "       'createdAt': 1295902447,\n",
       "       'prefix': 'https://fastly.4sqi.net/img/general/',\n",
       "       'suffix': '/YPLIEZCEWPP2CICHUH3UI5U5R5ZVSBES3KTA0Q33N5GLLJUI.jpg',\n",
       "       'width': 540,\n",
       "       'height': 540,\n",
       "       'user': {'id': '158595',\n",
       "        'firstName': 'Yan2',\n",
       "        'photo': {'prefix': 'https://fastly.4sqi.net/img/user/',\n",
       "         'suffix': '/1AZIB0VZHEM3S1Q1.png'}},\n",
       "       'visibility': 'public'},\n",
       "      'followers': {'count': 386},\n",
       "      'listItems': {'count': 160,\n",
       "       'items': [{'id': 'v4b072db1f964a520eef822e3',\n",
       "         'createdAt': 1313445051,\n",
       "         'photo': {'id': '4dd75eb8fd2867d89929841d',\n",
       "          'createdAt': 1305960120,\n",
       "          'prefix': 'https://fastly.4sqi.net/img/general/',\n",
       "          'suffix': '/TBLT5YV4TEZKMKC1HE0HF2FHDKFJET0IHXIMIGXF4541CO24.jpg',\n",
       "          'width': 537,\n",
       "          'height': 720,\n",
       "          'user': {'id': '2267271',\n",
       "           'firstName': 'Kaye',\n",
       "           'photo': {'prefix': 'https://fastly.4sqi.net/img/user/',\n",
       "            'suffix': '/0Z50ZU3CFGPAC0T3.jpg'}},\n",
       "          'visibility': 'public'}}]}},\n",
       "     {'id': '4e5966bab61c4aaa3dfd91f3',\n",
       "      'name': 'Melbourne Cafes of Excellence',\n",
       "      'description': 'Coffee, breakfast, good friends and conversations. Places where they take the most important meal of the day seriously.',\n",
       "      'type': 'others',\n",
       "      'user': {'id': '898388',\n",
       "       'firstName': 'Chris',\n",
       "       'lastName': 'L',\n",
       "       'photo': {'prefix': 'https://fastly.4sqi.net/img/user/',\n",
       "        'suffix': '/L3FULBTXCIN5SJCQ.jpg'}},\n",
       "      'editable': False,\n",
       "      'public': True,\n",
       "      'collaborative': False,\n",
       "      'url': '/user/898388/list/melbourne-cafes-of-excellence',\n",
       "      'canonicalUrl': 'https://foursquare.com/user/898388/list/melbourne-cafes-of-excellence',\n",
       "      'createdAt': 1314481850,\n",
       "      'updatedAt': 1464296391,\n",
       "      'photo': {'id': '4e123568d22d759bae696059',\n",
       "       'createdAt': 1309816168,\n",
       "       'prefix': 'https://fastly.4sqi.net/img/general/',\n",
       "       'suffix': '/ZKQZ24VY1KXKPJJLBMDOFXKDPYT0EVWL02P1UJ3Q0S1W1GFO.jpg',\n",
       "       'width': 720,\n",
       "       'height': 537,\n",
       "       'user': {'id': '898388',\n",
       "        'firstName': 'Chris',\n",
       "        'lastName': 'L',\n",
       "        'photo': {'prefix': 'https://fastly.4sqi.net/img/user/',\n",
       "         'suffix': '/L3FULBTXCIN5SJCQ.jpg'}},\n",
       "       'visibility': 'public'},\n",
       "      'followers': {'count': 235},\n",
       "      'listItems': {'count': 154,\n",
       "       'items': [{'id': 't4d128678f898b1f7b964d981',\n",
       "         'createdAt': 1322866774,\n",
       "         'photo': {'id': '4eaa06b5722efacf272df020',\n",
       "          'createdAt': 1319765685,\n",
       "          'prefix': 'https://fastly.4sqi.net/img/general/',\n",
       "          'suffix': '/4SID0QJRADK02NTLAGVSWR0ZHWNFCNU3V4G2NANC4V3LYKL4.jpg',\n",
       "          'width': 612,\n",
       "          'height': 612,\n",
       "          'user': {'id': '530383',\n",
       "           'firstName': 'Han',\n",
       "           'photo': {'prefix': 'https://fastly.4sqi.net/img/user/',\n",
       "            'suffix': '/530383-1PGHZI3HMBSGN220.jpg'}},\n",
       "          'visibility': 'public'}}]}},\n",
       "     {'id': '4e52577b6365d1ea68cd7367',\n",
       "      'name': 'Top Picks for Coffee',\n",
       "      'description': '',\n",
       "      'type': 'others',\n",
       "      'user': {'id': '4624004',\n",
       "       'firstName': 'Hendy',\n",
       "       'lastName': 'O',\n",
       "       'photo': {'prefix': 'https://fastly.4sqi.net/img/user/',\n",
       "        'suffix': '/4624004-U3M1RDINASHSYRM3.jpg'}},\n",
       "      'editable': False,\n",
       "      'public': True,\n",
       "      'collaborative': True,\n",
       "      'url': '/hendyo/list/top-picks-for-coffee',\n",
       "      'canonicalUrl': 'https://foursquare.com/hendyo/list/top-picks-for-coffee',\n",
       "      'createdAt': 1314019195,\n",
       "      'updatedAt': 1466363091,\n",
       "      'photo': {'id': '500a0186e4b0fec2cd1b748b',\n",
       "       'createdAt': 1342833030,\n",
       "       'prefix': 'https://fastly.4sqi.net/img/general/',\n",
       "       'suffix': '/MNMCfSreuaa5_qJ3ojCCbSBdZUz1sxKEfOGx7TRgOX0.jpg',\n",
       "       'width': 612,\n",
       "       'height': 612,\n",
       "       'user': {'id': '4624004',\n",
       "        'firstName': 'Hendy',\n",
       "        'lastName': 'O',\n",
       "        'photo': {'prefix': 'https://fastly.4sqi.net/img/user/',\n",
       "         'suffix': '/4624004-U3M1RDINASHSYRM3.jpg'}},\n",
       "       'visibility': 'public'},\n",
       "      'followers': {'count': 137},\n",
       "      'listItems': {'count': 43,\n",
       "       'items': [{'id': 't4d95474c7cfc1456a5af24f6',\n",
       "         'createdAt': 1314019195,\n",
       "         'photo': {'id': '4e87bd5b775becd7a5c06583',\n",
       "          'createdAt': 1317518683,\n",
       "          'prefix': 'https://fastly.4sqi.net/img/general/',\n",
       "          'suffix': '/NKEU2FCKOIXWTC2DO5ENKMZUS211BWAMLRIS4QU1EXDIFI22.jpg',\n",
       "          'width': 720,\n",
       "          'height': 537,\n",
       "          'user': {'id': '154806',\n",
       "           'firstName': 'Toby',\n",
       "           'photo': {'prefix': 'https://fastly.4sqi.net/img/user/',\n",
       "            'suffix': '/FY1T0RMKKMSHYKP3.png'}},\n",
       "          'visibility': 'public'}}]}}]}]},\n",
       " 'hours': {'status': 'Closed until 7:00 AM tomorrow',\n",
       "  'richStatus': {'entities': [], 'text': 'Closed until 7:00 AM tomorrow'},\n",
       "  'isOpen': False,\n",
       "  'isLocalHoliday': False,\n",
       "  'dayData': [],\n",
       "  'timeframes': [{'days': 'Mon–Sat',\n",
       "    'includesToday': True,\n",
       "    'open': [{'renderedTime': '7:00 AM–5:00 PM'}],\n",
       "    'segments': []},\n",
       "   {'days': 'Sun',\n",
       "    'open': [{'renderedTime': '8:00 AM–5:00 PM'}],\n",
       "    'segments': []}]},\n",
       " 'popular': {'isOpen': False,\n",
       "  'isLocalHoliday': False,\n",
       "  'timeframes': [{'days': 'Today',\n",
       "    'includesToday': True,\n",
       "    'open': [{'renderedTime': '8:00 AM–5:00 PM'}],\n",
       "    'segments': []},\n",
       "   {'days': 'Wed–Sat',\n",
       "    'open': [{'renderedTime': '8:00 AM–5:00 PM'}],\n",
       "    'segments': []},\n",
       "   {'days': 'Sun',\n",
       "    'open': [{'renderedTime': '8:00 AM–4:00 PM'}],\n",
       "    'segments': []},\n",
       "   {'days': 'Mon',\n",
       "    'open': [{'renderedTime': '8:00 AM–5:00 PM'}],\n",
       "    'segments': []}]},\n",
       " 'seasonalHours': [],\n",
       " 'defaultHours': {'status': 'Closed until 7:00 AM tomorrow',\n",
       "  'richStatus': {'entities': [], 'text': 'Closed until 7:00 AM tomorrow'},\n",
       "  'isOpen': False,\n",
       "  'isLocalHoliday': False,\n",
       "  'dayData': [],\n",
       "  'timeframes': [{'days': 'Mon–Sat',\n",
       "    'includesToday': True,\n",
       "    'open': [{'renderedTime': '7:00 AM–5:00 PM'}],\n",
       "    'segments': []},\n",
       "   {'days': 'Sun',\n",
       "    'open': [{'renderedTime': '8:00 AM–5:00 PM'}],\n",
       "    'segments': []}]},\n",
       " 'pageUpdates': {'count': 0, 'items': []},\n",
       " 'inbox': {'count': 0, 'items': []},\n",
       " 'attributes': {'groups': [{'type': 'price',\n",
       "    'name': 'Price',\n",
       "    'summary': '$$',\n",
       "    'count': 1,\n",
       "    'items': [{'displayName': 'Price', 'displayValue': '$$', 'priceTier': 2}]},\n",
       "   {'type': 'reservations',\n",
       "    'name': 'Reservations',\n",
       "    'count': 3,\n",
       "    'items': [{'displayName': 'Reservations', 'displayValue': 'No'}]},\n",
       "   {'type': 'payments',\n",
       "    'name': 'Credit Cards',\n",
       "    'summary': 'Credit Cards',\n",
       "    'count': 5,\n",
       "    'items': [{'displayName': 'Credit Cards',\n",
       "      'displayValue': 'Yes (incl. Visa & MasterCard)'}]},\n",
       "   {'type': 'outdoorSeating',\n",
       "    'name': 'Outdoor Seating',\n",
       "    'summary': 'Outdoor Seating',\n",
       "    'count': 1,\n",
       "    'items': [{'displayName': 'Outdoor Seating', 'displayValue': 'Yes'}]},\n",
       "   {'type': 'music',\n",
       "    'name': 'Music',\n",
       "    'count': 3,\n",
       "    'items': [{'displayName': 'Music', 'displayValue': 'No'}]},\n",
       "   {'type': 'wifi',\n",
       "    'name': 'Wi-Fi',\n",
       "    'count': 1,\n",
       "    'items': [{'displayName': 'Wi-Fi', 'displayValue': 'No'}]},\n",
       "   {'type': 'serves',\n",
       "    'name': 'Menus',\n",
       "    'summary': 'Breakfast & Lunch',\n",
       "    'count': 8,\n",
       "    'items': [{'displayName': 'Breakfast', 'displayValue': 'Breakfast'},\n",
       "     {'displayName': 'Lunch', 'displayValue': 'Lunch'}]},\n",
       "   {'type': 'diningOptions',\n",
       "    'name': 'Dining Options',\n",
       "    'summary': 'Delivery',\n",
       "    'count': 5,\n",
       "    'items': [{'displayName': 'Delivery', 'displayValue': 'Delivery'}]},\n",
       "   {'type': 'parking',\n",
       "    'name': 'Parking',\n",
       "    'summary': 'Street Parking',\n",
       "    'count': 5,\n",
       "    'items': [{'displayName': 'Street Parking', 'displayValue': 'Street'}]},\n",
       "   {'type': 'restroom',\n",
       "    'name': 'Restroom',\n",
       "    'summary': 'Restroom',\n",
       "    'count': 1,\n",
       "    'items': [{'displayName': 'Restroom', 'displayValue': 'Yes'}]}]},\n",
       " 'bestPhoto': {'id': '500b4dace4b03215e6621b18',\n",
       "  'createdAt': 1342918060,\n",
       "  'source': {'name': 'Foursquare for iOS',\n",
       "   'url': 'https://foursquare.com/download/#/iphone'},\n",
       "  'prefix': 'https://fastly.4sqi.net/img/general/',\n",
       "  'suffix': '/wks1d2D7vaMvNxMh74yMNmB-oOq-le-Ye07YJl0jvWw.jpg',\n",
       "  'width': 540,\n",
       "  'height': 720,\n",
       "  'visibility': 'public'}}"
      ]
     },
     "execution_count": 37,
     "metadata": {},
     "output_type": "execute_result"
    }
   ],
   "source": [
    "result1 = requests.get(url1).json()\n",
    "print(result1['response']['venue'].keys())\n",
    "result1['response']['venue']"
   ]
  },
  {
   "cell_type": "markdown",
   "metadata": {
    "button": false,
    "new_sheet": false,
    "run_control": {
     "read_only": false
    }
   },
   "source": [
    "####  Get the venue's overall rating"
   ]
  },
  {
   "cell_type": "code",
   "execution_count": 38,
   "metadata": {
    "button": false,
    "jupyter": {
     "outputs_hidden": false
    },
    "new_sheet": false,
    "run_control": {
     "read_only": false
    }
   },
   "outputs": [
    {
     "name": "stdout",
     "output_type": "stream",
     "text": [
      "8.7\n"
     ]
    }
   ],
   "source": [
    "try:\n",
    "    print(result1['response']['venue']['rating'])\n",
    "except:\n",
    "    print('This venue has not been rated yet.')"
   ]
  },
  {
   "cell_type": "markdown",
   "metadata": {
    "button": false,
    "new_sheet": false,
    "run_control": {
     "read_only": false
    }
   },
   "source": [
    "Seems like a good rating. \n",
    "Check Assembly Coffee & Tea."
   ]
  },
  {
   "cell_type": "code",
   "execution_count": 39,
   "metadata": {
    "button": false,
    "jupyter": {
     "outputs_hidden": false
    },
    "new_sheet": false,
    "run_control": {
     "read_only": false
    }
   },
   "outputs": [
    {
     "name": "stdout",
     "output_type": "stream",
     "text": [
      "8.5\n"
     ]
    }
   ],
   "source": [
    "venue_id = '519c3597e4b0b7830c2d3d16' # ID of Assembly Coffee & Tea\n",
    "url2 = 'https://api.foursquare.com/v2/venues/{}?client_id={}&client_secret={}&v={}'.format(venue_id, CLIENT_ID, CLIENT_SECRET, VERSION)\n",
    "\n",
    "result2 = requests.get(url2).json()\n",
    "try:\n",
    "    print(result2['response']['venue']['rating'])\n",
    "except:\n",
    "    print('This venue has not been rated yet.')"
   ]
  },
  {
   "cell_type": "markdown",
   "metadata": {
    "button": false,
    "new_sheet": false,
    "run_control": {
     "read_only": false
    }
   },
   "source": [
    "Good rating as well. For other coffee shops, check one by one."
   ]
  },
  {
   "cell_type": "markdown",
   "metadata": {
    "button": false,
    "new_sheet": false,
    "run_control": {
     "read_only": false
    }
   },
   "source": [
    "Since this restaurant has a slightly better rating, let's explore it further."
   ]
  },
  {
   "cell_type": "code",
   "execution_count": 40,
   "metadata": {},
   "outputs": [
    {
     "name": "stdout",
     "output_type": "stream",
     "text": [
      "7.9\n"
     ]
    }
   ],
   "source": [
    "venue_id = '50f6173be4b0cdce511debaa' # ID of  Market Lane Coffee\n",
    "url3 = 'https://api.foursquare.com/v2/venues/{}?client_id={}&client_secret={}&v={}'.format(venue_id, CLIENT_ID, CLIENT_SECRET, VERSION)\n",
    "\n",
    "result3 = requests.get(url3).json()\n",
    "try:\n",
    "    print(result['response']['venue']['rating'])\n",
    "except:\n",
    "    print('This venue has not been rated yet.')"
   ]
  },
  {
   "cell_type": "markdown",
   "metadata": {
    "button": false,
    "new_sheet": false,
    "run_control": {
     "read_only": false
    }
   },
   "source": [
    "####  Seven Seeds has the most high rating.\n",
    "Get the number of tips of seven seeds."
   ]
  },
  {
   "cell_type": "code",
   "execution_count": 41,
   "metadata": {
    "button": false,
    "jupyter": {
     "outputs_hidden": false
    },
    "new_sheet": false,
    "run_control": {
     "read_only": false
    }
   },
   "outputs": [
    {
     "data": {
      "text/plain": [
       "184"
      ]
     },
     "execution_count": 41,
     "metadata": {},
     "output_type": "execute_result"
    }
   ],
   "source": [
    "result1['response']['venue']['tips']['count']"
   ]
  },
  {
   "cell_type": "markdown",
   "metadata": {},
   "source": [
    "----"
   ]
  },
  {
   "cell_type": "markdown",
   "metadata": {
    "button": false,
    "new_sheet": false,
    "run_control": {
     "read_only": false
    }
   },
   "source": [
    "### 4. Specific Venue tip analysis--Seven Seeds"
   ]
  },
  {
   "cell_type": "markdown",
   "metadata": {
    "button": false,
    "new_sheet": false,
    "run_control": {
     "read_only": false
    }
   },
   "source": [
    "#### Create URL and send GET request. Make sure to set limit to get all tips"
   ]
  },
  {
   "cell_type": "code",
   "execution_count": 44,
   "metadata": {
    "button": false,
    "jupyter": {
     "outputs_hidden": false
    },
    "new_sheet": false,
    "run_control": {
     "read_only": false
    }
   },
   "outputs": [
    {
     "data": {
      "text/plain": [
       "{'meta': {'code': 200, 'requestId': '5ec3e781c94979001b518bc9'},\n",
       " 'response': {'tips': {'count': 7,\n",
       "   'items': [{'id': '541f0414498e040d4e309f66',\n",
       "     'createdAt': 1411318804,\n",
       "     'text': 'Incredibly small (and easy to miss) place that only does coffee but damn they do it well',\n",
       "     'type': 'user',\n",
       "     'canonicalUrl': 'https://foursquare.com/item/541f0414498e040d4e309f66',\n",
       "     'lang': 'en',\n",
       "     'likes': {'count': 0, 'groups': []},\n",
       "     'logView': True,\n",
       "     'agreeCount': 3,\n",
       "     'disagreeCount': 0,\n",
       "     'todo': {'count': 0},\n",
       "     'user': {'id': '3609736',\n",
       "      'firstName': 'Tomfoolery',\n",
       "      'photo': {'prefix': 'https://fastly.4sqi.net/img/user/',\n",
       "       'suffix': '/VGPWB53CERZYUONI.jpg'}},\n",
       "     'authorInteractionType': 'liked'}]}}}"
      ]
     },
     "execution_count": 44,
     "metadata": {},
     "output_type": "execute_result"
    }
   ],
   "source": [
    "limit = 15 # set limit to be greater than or equal to the total number of tips\n",
    "venue_id1 = '4b072db1f964a520eef822e3' # ID of Seven Seeds\n",
    "url4 = 'https://api.foursquare.com/v2/venues/{}/tips?client_id={}&client_secret={}&v={}&limit={}'.format(venue_id, CLIENT_ID, CLIENT_SECRET, VERSION, limit)\n",
    "\n",
    "results = requests.get(url4).json()\n",
    "results"
   ]
  },
  {
   "cell_type": "markdown",
   "metadata": {
    "button": false,
    "new_sheet": false,
    "run_control": {
     "read_only": false
    }
   },
   "source": [
    "#### Get tips and list of associated features"
   ]
  },
  {
   "cell_type": "code",
   "execution_count": 45,
   "metadata": {
    "button": false,
    "jupyter": {
     "outputs_hidden": false
    },
    "new_sheet": false,
    "run_control": {
     "read_only": false
    }
   },
   "outputs": [
    {
     "data": {
      "text/plain": [
       "dict_keys(['id', 'createdAt', 'text', 'type', 'canonicalUrl', 'lang', 'likes', 'logView', 'agreeCount', 'disagreeCount', 'todo', 'user', 'authorInteractionType'])"
      ]
     },
     "execution_count": 45,
     "metadata": {},
     "output_type": "execute_result"
    }
   ],
   "source": [
    "tips = results['response']['tips']['items']\n",
    "\n",
    "tip = results['response']['tips']['items'][0]\n",
    "tip.keys()"
   ]
  },
  {
   "cell_type": "markdown",
   "metadata": {
    "button": false,
    "new_sheet": false,
    "run_control": {
     "read_only": false
    }
   },
   "source": [
    "#### Format column width and display all tips"
   ]
  },
  {
   "cell_type": "code",
   "execution_count": 46,
   "metadata": {
    "button": false,
    "jupyter": {
     "outputs_hidden": false
    },
    "new_sheet": false,
    "run_control": {
     "read_only": false
    }
   },
   "outputs": [
    {
     "name": "stderr",
     "output_type": "stream",
     "text": [
      "C:\\Users\\liduo\\Anaconda3\\Tools\\ANACONDA3\\lib\\site-packages\\pandas\\core\\indexing.py:1494: FutureWarning: \n",
      "Passing list-likes to .loc or [] with any missing label will raise\n",
      "KeyError in the future, you can use .reindex() as an alternative.\n",
      "\n",
      "See the documentation here:\n",
      "https://pandas.pydata.org/pandas-docs/stable/indexing.html#deprecate-loc-reindex-listlike\n",
      "  return self._getitem_tuple(key)\n"
     ]
    },
    {
     "data": {
      "text/html": [
       "<div>\n",
       "<style scoped>\n",
       "    .dataframe tbody tr th:only-of-type {\n",
       "        vertical-align: middle;\n",
       "    }\n",
       "\n",
       "    .dataframe tbody tr th {\n",
       "        vertical-align: top;\n",
       "    }\n",
       "\n",
       "    .dataframe thead th {\n",
       "        text-align: right;\n",
       "    }\n",
       "</style>\n",
       "<table border=\"1\" class=\"dataframe\">\n",
       "  <thead>\n",
       "    <tr style=\"text-align: right;\">\n",
       "      <th></th>\n",
       "      <th>text</th>\n",
       "      <th>agreeCount</th>\n",
       "      <th>disagreeCount</th>\n",
       "      <th>id</th>\n",
       "      <th>user.firstName</th>\n",
       "      <th>user.lastName</th>\n",
       "      <th>user.gender</th>\n",
       "      <th>user.id</th>\n",
       "    </tr>\n",
       "  </thead>\n",
       "  <tbody>\n",
       "    <tr>\n",
       "      <th>0</th>\n",
       "      <td>Incredibly small (and easy to miss) place that only does coffee but damn they do it well</td>\n",
       "      <td>3</td>\n",
       "      <td>0</td>\n",
       "      <td>541f0414498e040d4e309f66</td>\n",
       "      <td>Tomfoolery</td>\n",
       "      <td>NaN</td>\n",
       "      <td>NaN</td>\n",
       "      <td>3609736</td>\n",
       "    </tr>\n",
       "  </tbody>\n",
       "</table>\n",
       "</div>"
      ],
      "text/plain": [
       "                                                                                       text  \\\n",
       "0  Incredibly small (and easy to miss) place that only does coffee but damn they do it well   \n",
       "\n",
       "   agreeCount  disagreeCount                        id user.firstName  \\\n",
       "0  3           0              541f0414498e040d4e309f66  Tomfoolery      \n",
       "\n",
       "   user.lastName  user.gender  user.id  \n",
       "0 NaN            NaN           3609736  "
      ]
     },
     "execution_count": 46,
     "metadata": {},
     "output_type": "execute_result"
    }
   ],
   "source": [
    "pd.set_option('display.max_colwidth', -1)\n",
    "\n",
    "tips_df = json_normalize(tips) # json normalize tips\n",
    "\n",
    "# columns to keep\n",
    "filtered_columns = ['text', 'agreeCount', 'disagreeCount', 'id', 'user.firstName', 'user.lastName', 'user.gender', 'user.id']\n",
    "tips_filtered = tips_df.loc[:, filtered_columns]\n",
    "\n",
    "# display tips\n",
    "tips_filtered"
   ]
  },
  {
   "cell_type": "markdown",
   "metadata": {
    "button": false,
    "new_sheet": false,
    "run_control": {
     "read_only": false
    }
   },
   "source": [
    "###  Explore Trending Venues Around Melbourne Univeristy"
   ]
  },
  {
   "cell_type": "markdown",
   "metadata": {
    "button": false,
    "new_sheet": false,
    "run_control": {
     "read_only": false
    }
   },
   "source": [
    "#### Now, instead of simply exploring the area around Ecco, you are interested in knowing the venues that are trending at the time you are done with your lunch, meaning the places with the highest foot traffic. So let's do that and get the trending venues around Ecco."
   ]
  },
  {
   "cell_type": "code",
   "execution_count": 53,
   "metadata": {},
   "outputs": [],
   "source": [
    "# Melbourne University -37.8003661 144.9636857\n",
    "latitude = -37.8003661\n",
    "longitude = 144.9636857"
   ]
  },
  {
   "cell_type": "code",
   "execution_count": 54,
   "metadata": {
    "button": false,
    "jupyter": {
     "outputs_hidden": false
    },
    "new_sheet": false,
    "run_control": {
     "read_only": false
    }
   },
   "outputs": [
    {
     "data": {
      "text/plain": [
       "{'meta': {'code': 200, 'requestId': '5ec3ec671a4b0a0028e3c417'},\n",
       " 'response': {'venues': []}}"
      ]
     },
     "execution_count": 54,
     "metadata": {},
     "output_type": "execute_result"
    }
   ],
   "source": [
    "# define URL\n",
    "url = 'https://api.foursquare.com/v2/venues/trending?client_id={}&client_secret={}&ll={},{}&v={}'.format(CLIENT_ID, CLIENT_SECRET, latitude, longitude, VERSION)\n",
    "\n",
    "# send GET request and get trending venues\n",
    "results6 = requests.get(url).json()\n",
    "results6"
   ]
  },
  {
   "cell_type": "markdown",
   "metadata": {
    "button": false,
    "new_sheet": false,
    "run_control": {
     "read_only": false
    }
   },
   "source": [
    "### Check if any venues are trending at this time"
   ]
  },
  {
   "cell_type": "code",
   "execution_count": 55,
   "metadata": {
    "button": false,
    "new_sheet": false,
    "run_control": {
     "read_only": false
    }
   },
   "outputs": [],
   "source": [
    "if len(results6['response']['venues']) == 0:\n",
    "    trending_venues_df = 'No trending venues are available at the moment!'\n",
    "    \n",
    "else:\n",
    "    trending_venues = results6['response']['venues']\n",
    "    trending_venues_df = json_normalize(trending_venues)\n",
    "\n",
    "    # filter columns\n",
    "    columns_filtered = ['name', 'categories'] + ['location.distance', 'location.city', 'location.postalCode', 'location.state', 'location.country', 'location.lat', 'location.lng']\n",
    "    trending_venues_df = trending_venues_df.loc[:, columns_filtered]\n",
    "\n",
    "    # filter the category for each row\n",
    "    trending_venues_df['categories'] = trending_venues_df.apply(get_category_type, axis=1)"
   ]
  },
  {
   "cell_type": "code",
   "execution_count": 56,
   "metadata": {
    "button": false,
    "jupyter": {
     "outputs_hidden": false
    },
    "new_sheet": false,
    "run_control": {
     "read_only": false
    }
   },
   "outputs": [
    {
     "data": {
      "text/plain": [
       "'No trending venues are available at the moment!'"
      ]
     },
     "execution_count": 56,
     "metadata": {},
     "output_type": "execute_result"
    }
   ],
   "source": [
    "# display trending venues\n",
    "trending_venues_df"
   ]
  },
  {
   "cell_type": "markdown",
   "metadata": {},
   "source": [
    "###  Explore Trending Venues Around Melbourne Centre"
   ]
  },
  {
   "cell_type": "markdown",
   "metadata": {},
   "source": [
    "For Melbourne University locates closely to Melbourn Centre, let's explore trending venues around menbourne Centre."
   ]
  },
  {
   "cell_type": "markdown",
   "metadata": {},
   "source": [
    "#### get the geolocation of melbourne CBD"
   ]
  },
  {
   "cell_type": "code",
   "execution_count": 70,
   "metadata": {},
   "outputs": [
    {
     "name": "stdout",
     "output_type": "stream",
     "text": [
      "latitude = -37.8143488\n",
      "longitude = 144.9600094\n"
     ]
    }
   ],
   "source": [
    "#Melbourne CBD, Melbourne\n",
    "address = '189 Queen Street,VIC'\n",
    "\n",
    "geolocator = Nominatim(user_agent=\"foursquare_agent\")\n",
    "location = geolocator.geocode(address)\n",
    "latitude = location.latitude\n",
    "longitude = location.longitude\n",
    "print('latitude','=',latitude)\n",
    "print('longitude','=',longitude)"
   ]
  },
  {
   "cell_type": "code",
   "execution_count": 71,
   "metadata": {},
   "outputs": [],
   "source": [
    "latitude = -37.8143488\n",
    "longitude = 144.9600094"
   ]
  },
  {
   "cell_type": "code",
   "execution_count": 73,
   "metadata": {},
   "outputs": [
    {
     "data": {
      "text/plain": [
       "'https://api.foursquare.com/v2/venues/explore?client_id=1ZG0G32EIDRSNCOXMYP2VSLBEDYDV0ZX4BXQHPITVDZBIH2O&client_secret=S0DTV2TOIEX2YZQTTI2NAVZF2OKTWC3FPHAHIPNMRPEHOZLX&ll=-37.8143488,144.9600094&v=20180604&radius=500&limit=30'"
      ]
     },
     "execution_count": 73,
     "metadata": {},
     "output_type": "execute_result"
    }
   ],
   "source": [
    "url7 = 'https://api.foursquare.com/v2/venues/explore?client_id={}&client_secret={}&ll={},{}&v={}&radius={}&limit={}'.format(CLIENT_ID, CLIENT_SECRET, latitude, longitude, VERSION, radius, LIMIT)\n",
    "url7"
   ]
  },
  {
   "cell_type": "code",
   "execution_count": 76,
   "metadata": {},
   "outputs": [
    {
     "data": {
      "text/plain": [
       "'There are 30 around Melbourne Centre.'"
      ]
     },
     "execution_count": 76,
     "metadata": {},
     "output_type": "execute_result"
    }
   ],
   "source": [
    "import requests\n",
    "results7 = requests.get(url7).json()\n",
    "'There are {} around Melbourne Centre.'.format(len(results7['response']['groups'][0]['items']))"
   ]
  },
  {
   "cell_type": "code",
   "execution_count": 78,
   "metadata": {},
   "outputs": [
    {
     "data": {
      "text/plain": [
       "{'reasons': {'count': 0,\n",
       "  'items': [{'summary': 'This spot is popular',\n",
       "    'type': 'general',\n",
       "    'reasonName': 'globalInteractionReason'}]},\n",
       " 'venue': {'id': '4ee91d794901e2d61a51221b',\n",
       "  'name': 'Patricia Coffee Brewers',\n",
       "  'location': {'address': '493-495 Little Bourke St',\n",
       "   'crossStreet': 'at Little William St',\n",
       "   'lat': -37.81459770538132,\n",
       "   'lng': 144.95834960462622,\n",
       "   'labeledLatLngs': [{'label': 'display',\n",
       "     'lat': -37.81459770538132,\n",
       "     'lng': 144.95834960462622}],\n",
       "   'distance': 148,\n",
       "   'postalCode': '3000',\n",
       "   'cc': 'AU',\n",
       "   'city': 'Melbourne',\n",
       "   'state': 'VIC',\n",
       "   'country': 'Australia',\n",
       "   'formattedAddress': ['493-495 Little Bourke St (at Little William St)',\n",
       "    'Melbourne VIC 3000',\n",
       "    'Australia']},\n",
       "  'categories': [{'id': '4bf58dd8d48988d1e0931735',\n",
       "    'name': 'Coffee Shop',\n",
       "    'pluralName': 'Coffee Shops',\n",
       "    'shortName': 'Coffee Shop',\n",
       "    'icon': {'prefix': 'https://ss3.4sqi.net/img/categories_v2/food/coffeeshop_',\n",
       "     'suffix': '.png'},\n",
       "    'primary': True}],\n",
       "  'photos': {'count': 0, 'groups': []}},\n",
       " 'referralId': 'e-0-4ee91d794901e2d61a51221b-0'}"
      ]
     },
     "execution_count": 78,
     "metadata": {},
     "output_type": "execute_result"
    }
   ],
   "source": [
    "items7 = results7['response']['groups'][0]['items']\n",
    "items[0]"
   ]
  },
  {
   "cell_type": "code",
   "execution_count": 80,
   "metadata": {},
   "outputs": [
    {
     "data": {
      "text/html": [
       "<div>\n",
       "<style scoped>\n",
       "    .dataframe tbody tr th:only-of-type {\n",
       "        vertical-align: middle;\n",
       "    }\n",
       "\n",
       "    .dataframe tbody tr th {\n",
       "        vertical-align: top;\n",
       "    }\n",
       "\n",
       "    .dataframe thead th {\n",
       "        text-align: right;\n",
       "    }\n",
       "</style>\n",
       "<table border=\"1\" class=\"dataframe\">\n",
       "  <thead>\n",
       "    <tr style=\"text-align: right;\">\n",
       "      <th></th>\n",
       "      <th>name</th>\n",
       "      <th>categories</th>\n",
       "      <th>address</th>\n",
       "      <th>cc</th>\n",
       "      <th>city</th>\n",
       "      <th>country</th>\n",
       "      <th>crossStreet</th>\n",
       "      <th>distance</th>\n",
       "      <th>formattedAddress</th>\n",
       "      <th>labeledLatLngs</th>\n",
       "      <th>lat</th>\n",
       "      <th>lng</th>\n",
       "      <th>neighborhood</th>\n",
       "      <th>postalCode</th>\n",
       "      <th>state</th>\n",
       "      <th>id</th>\n",
       "    </tr>\n",
       "  </thead>\n",
       "  <tbody>\n",
       "    <tr>\n",
       "      <th>0</th>\n",
       "      <td>Patricia Coffee Brewers</td>\n",
       "      <td>Coffee Shop</td>\n",
       "      <td>493-495 Little Bourke St</td>\n",
       "      <td>AU</td>\n",
       "      <td>Melbourne</td>\n",
       "      <td>Australia</td>\n",
       "      <td>at Little William St</td>\n",
       "      <td>148</td>\n",
       "      <td>[493-495 Little Bourke St (at Little William St), Melbourne VIC 3000, Australia]</td>\n",
       "      <td>[{'label': 'display', 'lat': -37.81459770538132, 'lng': 144.95834960462622}]</td>\n",
       "      <td>-37.814598</td>\n",
       "      <td>144.958350</td>\n",
       "      <td>NaN</td>\n",
       "      <td>3000</td>\n",
       "      <td>VIC</td>\n",
       "      <td>4ee91d794901e2d61a51221b</td>\n",
       "    </tr>\n",
       "    <tr>\n",
       "      <th>1</th>\n",
       "      <td>Tipo 00</td>\n",
       "      <td>Italian Restaurant</td>\n",
       "      <td>361 Little Bourke St</td>\n",
       "      <td>AU</td>\n",
       "      <td>Melbourne</td>\n",
       "      <td>Australia</td>\n",
       "      <td>NaN</td>\n",
       "      <td>195</td>\n",
       "      <td>[361 Little Bourke St, Melbourne VIC 3000, Australia]</td>\n",
       "      <td>[{'label': 'display', 'lat': -37.81352651659617, 'lng': 144.96197769842925}]</td>\n",
       "      <td>-37.813527</td>\n",
       "      <td>144.961978</td>\n",
       "      <td>Melbourne CBD</td>\n",
       "      <td>3000</td>\n",
       "      <td>VIC</td>\n",
       "      <td>54631f6e498ed0dde017e53c</td>\n",
       "    </tr>\n",
       "    <tr>\n",
       "      <th>2</th>\n",
       "      <td>Brother Baba Budan</td>\n",
       "      <td>Coffee Shop</td>\n",
       "      <td>359 Little Bourke St</td>\n",
       "      <td>AU</td>\n",
       "      <td>Melbourne</td>\n",
       "      <td>Australia</td>\n",
       "      <td>NaN</td>\n",
       "      <td>212</td>\n",
       "      <td>[359 Little Bourke St, Melbourne VIC 3000, Australia]</td>\n",
       "      <td>[{'label': 'display', 'lat': -37.81344531526534, 'lng': 144.9621371027108}]</td>\n",
       "      <td>-37.813445</td>\n",
       "      <td>144.962137</td>\n",
       "      <td>NaN</td>\n",
       "      <td>3000</td>\n",
       "      <td>VIC</td>\n",
       "      <td>4b058748f964a520cf8822e3</td>\n",
       "    </tr>\n",
       "    <tr>\n",
       "      <th>3</th>\n",
       "      <td>Kirk's Wine Bar</td>\n",
       "      <td>Wine Bar</td>\n",
       "      <td>Corner Of Hardware Ln &amp; Little Bourke St</td>\n",
       "      <td>AU</td>\n",
       "      <td>Melbourne</td>\n",
       "      <td>Australia</td>\n",
       "      <td>NaN</td>\n",
       "      <td>140</td>\n",
       "      <td>[Corner Of Hardware Ln &amp; Little Bourke St, Melbourne VIC 3000, Australia]</td>\n",
       "      <td>[{'label': 'display', 'lat': -37.81366122201294, 'lng': 144.96135085146574}]</td>\n",
       "      <td>-37.813661</td>\n",
       "      <td>144.961351</td>\n",
       "      <td>NaN</td>\n",
       "      <td>3000</td>\n",
       "      <td>VIC</td>\n",
       "      <td>53a149a8498ea185a5cf8e5a</td>\n",
       "    </tr>\n",
       "    <tr>\n",
       "      <th>4</th>\n",
       "      <td>La Belle Miette</td>\n",
       "      <td>Dessert Shop</td>\n",
       "      <td>30 Hardware Ln.</td>\n",
       "      <td>AU</td>\n",
       "      <td>Melbourne</td>\n",
       "      <td>Australia</td>\n",
       "      <td>NaN</td>\n",
       "      <td>131</td>\n",
       "      <td>[30 Hardware Ln., Melbourne VIC 3000, Australia]</td>\n",
       "      <td>[{'label': 'display', 'lat': -37.81397866796212, 'lng': 144.96142940769838}]</td>\n",
       "      <td>-37.813979</td>\n",
       "      <td>144.961429</td>\n",
       "      <td>NaN</td>\n",
       "      <td>3000</td>\n",
       "      <td>VIC</td>\n",
       "      <td>4d468e4b14aa8cfa0ec87d3d</td>\n",
       "    </tr>\n",
       "    <tr>\n",
       "      <th>5</th>\n",
       "      <td>Le Petit Gâteau</td>\n",
       "      <td>Dessert Shop</td>\n",
       "      <td>458 Little Collins St.</td>\n",
       "      <td>AU</td>\n",
       "      <td>Melbourne</td>\n",
       "      <td>Australia</td>\n",
       "      <td>at Kitz La.</td>\n",
       "      <td>215</td>\n",
       "      <td>[458 Little Collins St. (at Kitz La.), Melbourne VIC 3000, Australia]</td>\n",
       "      <td>[{'label': 'display', 'lat': -37.81625445835206, 'lng': 144.95958483140944}]</td>\n",
       "      <td>-37.816254</td>\n",
       "      <td>144.959585</td>\n",
       "      <td>NaN</td>\n",
       "      <td>3000</td>\n",
       "      <td>VIC</td>\n",
       "      <td>4b0f401ff964a520d66023e3</td>\n",
       "    </tr>\n",
       "    <tr>\n",
       "      <th>6</th>\n",
       "      <td>Manchester Press</td>\n",
       "      <td>Café</td>\n",
       "      <td>8 Rankins Ln</td>\n",
       "      <td>AU</td>\n",
       "      <td>Melbourne</td>\n",
       "      <td>Australia</td>\n",
       "      <td>Little Bourke St</td>\n",
       "      <td>198</td>\n",
       "      <td>[8 Rankins Ln (Little Bourke St), Melbourne VIC 3000, Australia]</td>\n",
       "      <td>[{'label': 'display', 'lat': -37.81374034440173, 'lng': 144.96213239807437}]</td>\n",
       "      <td>-37.813740</td>\n",
       "      <td>144.962132</td>\n",
       "      <td>NaN</td>\n",
       "      <td>3000</td>\n",
       "      <td>VIC</td>\n",
       "      <td>4d6b243c92f6b60c989b9de0</td>\n",
       "    </tr>\n",
       "    <tr>\n",
       "      <th>7</th>\n",
       "      <td>Critical Hit</td>\n",
       "      <td>Toy / Game Store</td>\n",
       "      <td>377 Little Collins St.</td>\n",
       "      <td>AU</td>\n",
       "      <td>Melbourne</td>\n",
       "      <td>Australia</td>\n",
       "      <td>NaN</td>\n",
       "      <td>249</td>\n",
       "      <td>[377 Little Collins St., Melbourne VIC 3000, Australia]</td>\n",
       "      <td>[{'label': 'display', 'lat': -37.81581947333471, 'lng': 144.9621541330356}]</td>\n",
       "      <td>-37.815819</td>\n",
       "      <td>144.962154</td>\n",
       "      <td>NaN</td>\n",
       "      <td>3000</td>\n",
       "      <td>VIC</td>\n",
       "      <td>4e5f14e9b0fb27e2bd429d88</td>\n",
       "    </tr>\n",
       "    <tr>\n",
       "      <th>8</th>\n",
       "      <td>Sun Moth Canteen &amp; Bar</td>\n",
       "      <td>Café</td>\n",
       "      <td>28 Niagara Ln</td>\n",
       "      <td>AU</td>\n",
       "      <td>Melbourne</td>\n",
       "      <td>Australia</td>\n",
       "      <td>NaN</td>\n",
       "      <td>199</td>\n",
       "      <td>[28 Niagara Ln, Melbourne VIC 3000, Australia]</td>\n",
       "      <td>[{'label': 'display', 'lat': -37.81290999696753, 'lng': 144.96136607521245}]</td>\n",
       "      <td>-37.812910</td>\n",
       "      <td>144.961366</td>\n",
       "      <td>NaN</td>\n",
       "      <td>3000</td>\n",
       "      <td>VIC</td>\n",
       "      <td>543f8a4e498e3fe8824dcc59</td>\n",
       "    </tr>\n",
       "    <tr>\n",
       "      <th>9</th>\n",
       "      <td>Whitehart</td>\n",
       "      <td>Bar</td>\n",
       "      <td>22 Whitehard Ln</td>\n",
       "      <td>AU</td>\n",
       "      <td>Melbourne</td>\n",
       "      <td>Australia</td>\n",
       "      <td>NaN</td>\n",
       "      <td>245</td>\n",
       "      <td>[22 Whitehard Ln, Melbourne VIC 3000, Australia]</td>\n",
       "      <td>[{'label': 'display', 'lat': -37.81278061076497, 'lng': 144.96197284896698}]</td>\n",
       "      <td>-37.812781</td>\n",
       "      <td>144.961973</td>\n",
       "      <td>NaN</td>\n",
       "      <td>3000</td>\n",
       "      <td>VIC</td>\n",
       "      <td>58b9780e91936a61c962b95a</td>\n",
       "    </tr>\n",
       "  </tbody>\n",
       "</table>\n",
       "</div>"
      ],
      "text/plain": [
       "                      name          categories  \\\n",
       "0  Patricia Coffee Brewers  Coffee Shop          \n",
       "1  Tipo 00                  Italian Restaurant   \n",
       "2  Brother Baba Budan       Coffee Shop          \n",
       "3  Kirk's Wine Bar          Wine Bar             \n",
       "4  La Belle Miette          Dessert Shop         \n",
       "5  Le Petit Gâteau          Dessert Shop         \n",
       "6  Manchester Press         Café                 \n",
       "7  Critical Hit             Toy / Game Store     \n",
       "8  Sun Moth Canteen & Bar   Café                 \n",
       "9  Whitehart                Bar                  \n",
       "\n",
       "                                    address  cc       city    country  \\\n",
       "0  493-495 Little Bourke St                  AU  Melbourne  Australia   \n",
       "1  361 Little Bourke St                      AU  Melbourne  Australia   \n",
       "2  359 Little Bourke St                      AU  Melbourne  Australia   \n",
       "3  Corner Of Hardware Ln & Little Bourke St  AU  Melbourne  Australia   \n",
       "4  30 Hardware Ln.                           AU  Melbourne  Australia   \n",
       "5  458 Little Collins St.                    AU  Melbourne  Australia   \n",
       "6  8 Rankins Ln                              AU  Melbourne  Australia   \n",
       "7  377 Little Collins St.                    AU  Melbourne  Australia   \n",
       "8  28 Niagara Ln                             AU  Melbourne  Australia   \n",
       "9  22 Whitehard Ln                           AU  Melbourne  Australia   \n",
       "\n",
       "            crossStreet  distance  \\\n",
       "0  at Little William St  148        \n",
       "1  NaN                   195        \n",
       "2  NaN                   212        \n",
       "3  NaN                   140        \n",
       "4  NaN                   131        \n",
       "5  at Kitz La.           215        \n",
       "6  Little Bourke St      198        \n",
       "7  NaN                   249        \n",
       "8  NaN                   199        \n",
       "9  NaN                   245        \n",
       "\n",
       "                                                                   formattedAddress  \\\n",
       "0  [493-495 Little Bourke St (at Little William St), Melbourne VIC 3000, Australia]   \n",
       "1  [361 Little Bourke St, Melbourne VIC 3000, Australia]                              \n",
       "2  [359 Little Bourke St, Melbourne VIC 3000, Australia]                              \n",
       "3  [Corner Of Hardware Ln & Little Bourke St, Melbourne VIC 3000, Australia]          \n",
       "4  [30 Hardware Ln., Melbourne VIC 3000, Australia]                                   \n",
       "5  [458 Little Collins St. (at Kitz La.), Melbourne VIC 3000, Australia]              \n",
       "6  [8 Rankins Ln (Little Bourke St), Melbourne VIC 3000, Australia]                   \n",
       "7  [377 Little Collins St., Melbourne VIC 3000, Australia]                            \n",
       "8  [28 Niagara Ln, Melbourne VIC 3000, Australia]                                     \n",
       "9  [22 Whitehard Ln, Melbourne VIC 3000, Australia]                                   \n",
       "\n",
       "                                                                 labeledLatLngs  \\\n",
       "0  [{'label': 'display', 'lat': -37.81459770538132, 'lng': 144.95834960462622}]   \n",
       "1  [{'label': 'display', 'lat': -37.81352651659617, 'lng': 144.96197769842925}]   \n",
       "2  [{'label': 'display', 'lat': -37.81344531526534, 'lng': 144.9621371027108}]    \n",
       "3  [{'label': 'display', 'lat': -37.81366122201294, 'lng': 144.96135085146574}]   \n",
       "4  [{'label': 'display', 'lat': -37.81397866796212, 'lng': 144.96142940769838}]   \n",
       "5  [{'label': 'display', 'lat': -37.81625445835206, 'lng': 144.95958483140944}]   \n",
       "6  [{'label': 'display', 'lat': -37.81374034440173, 'lng': 144.96213239807437}]   \n",
       "7  [{'label': 'display', 'lat': -37.81581947333471, 'lng': 144.9621541330356}]    \n",
       "8  [{'label': 'display', 'lat': -37.81290999696753, 'lng': 144.96136607521245}]   \n",
       "9  [{'label': 'display', 'lat': -37.81278061076497, 'lng': 144.96197284896698}]   \n",
       "\n",
       "         lat         lng   neighborhood postalCode state  \\\n",
       "0 -37.814598  144.958350  NaN            3000       VIC    \n",
       "1 -37.813527  144.961978  Melbourne CBD  3000       VIC    \n",
       "2 -37.813445  144.962137  NaN            3000       VIC    \n",
       "3 -37.813661  144.961351  NaN            3000       VIC    \n",
       "4 -37.813979  144.961429  NaN            3000       VIC    \n",
       "5 -37.816254  144.959585  NaN            3000       VIC    \n",
       "6 -37.813740  144.962132  NaN            3000       VIC    \n",
       "7 -37.815819  144.962154  NaN            3000       VIC    \n",
       "8 -37.812910  144.961366  NaN            3000       VIC    \n",
       "9 -37.812781  144.961973  NaN            3000       VIC    \n",
       "\n",
       "                         id  \n",
       "0  4ee91d794901e2d61a51221b  \n",
       "1  54631f6e498ed0dde017e53c  \n",
       "2  4b058748f964a520cf8822e3  \n",
       "3  53a149a8498ea185a5cf8e5a  \n",
       "4  4d468e4b14aa8cfa0ec87d3d  \n",
       "5  4b0f401ff964a520d66023e3  \n",
       "6  4d6b243c92f6b60c989b9de0  \n",
       "7  4e5f14e9b0fb27e2bd429d88  \n",
       "8  543f8a4e498e3fe8824dcc59  \n",
       "9  58b9780e91936a61c962b95a  "
      ]
     },
     "execution_count": 80,
     "metadata": {},
     "output_type": "execute_result"
    }
   ],
   "source": [
    "dataframe = json_normalize(items7) # flatten JSON\n",
    "\n",
    "# filter columns\n",
    "filtered_columns7 = ['venue.name', 'venue.categories'] + [col for col in dataframe.columns if col.startswith('venue.location.')] + ['venue.id']\n",
    "dataframe_filtered7 = dataframe.loc[:, filtered_columns7]\n",
    "\n",
    "# filter the category for each row\n",
    "dataframe_filtered7['venue.categories'] = dataframe_filtered7.apply(get_category_type, axis=1)\n",
    "\n",
    "# clean columns\n",
    "dataframe_filtered7.columns = [col.split('.')[-1] for col in dataframe_filtered7.columns]\n",
    "\n",
    "dataframe_filtered7.head(10)"
   ]
  },
  {
   "cell_type": "code",
   "execution_count": 89,
   "metadata": {},
   "outputs": [
    {
     "data": {
      "text/plain": [
       "(30, 16)"
      ]
     },
     "execution_count": 89,
     "metadata": {},
     "output_type": "execute_result"
    }
   ],
   "source": [
    "dataframe_filtered7.shape"
   ]
  },
  {
   "cell_type": "code",
   "execution_count": 91,
   "metadata": {},
   "outputs": [
    {
     "data": {
      "text/plain": [
       "Café                       5\n",
       "Dessert Shop               3\n",
       "Bar                        2\n",
       "Italian Restaurant         2\n",
       "Coffee Shop                2\n",
       "Tapas Restaurant           1\n",
       "Comic Shop                 1\n",
       "Wine Bar                   1\n",
       "Scandinavian Restaurant    1\n",
       "Cocktail Bar               1\n",
       "Art Gallery                1\n",
       "Hobby Shop                 1\n",
       "Brazilian Restaurant       1\n",
       "Asian Restaurant           1\n",
       "Argentinian Restaurant     1\n",
       "Lebanese Restaurant        1\n",
       "Donut Shop                 1\n",
       "Spanish Restaurant         1\n",
       "Thai Restaurant            1\n",
       "Indonesian Restaurant      1\n",
       "Toy / Game Store           1\n",
       "Name: categories, dtype: int64"
      ]
     },
     "execution_count": 91,
     "metadata": {},
     "output_type": "execute_result"
    }
   ],
   "source": [
    "dataframe_filtered7['categories'].value_counts()"
   ]
  },
  {
   "cell_type": "code",
   "execution_count": null,
   "metadata": {},
   "outputs": [],
   "source": []
  }
 ],
 "metadata": {
  "kernelspec": {
   "display_name": "Python 3",
   "language": "python",
   "name": "python3"
  },
  "language_info": {
   "codemirror_mode": {
    "name": "ipython",
    "version": 3
   },
   "file_extension": ".py",
   "mimetype": "text/x-python",
   "name": "python",
   "nbconvert_exporter": "python",
   "pygments_lexer": "ipython3",
   "version": "3.7.3"
  },
  "widgets": {
   "state": {},
   "version": "1.1.2"
  }
 },
 "nbformat": 4,
 "nbformat_minor": 4
}
